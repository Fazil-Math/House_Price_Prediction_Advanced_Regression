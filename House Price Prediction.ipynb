{
 "cells": [
  {
   "cell_type": "markdown",
   "id": "a47fbc49",
   "metadata": {},
   "source": [
    "<br><font color='darkgreen' size=8><u>Ridge & Lasso Regression</u></font>\n",
    "\n",
    "# <font color='navy'><u>Problem Statement</u></font>\n",
    "\n",
    "A US-based housing company named Surprise Housing has decided to enter the Australian market. The company uses data analytics to purchase houses at a price below their actual values and flip them on at a higher price. For the same purpose, the company has collected a data set from the sale of houses in Australia. \n",
    "\n",
    "We are required to build a regression model using regularisation (l1 norm & l2 norm) in order to predict the actual value of the prospective properties and decide whether to invest in them or not. We have to identify the following \n",
    "\n",
    "- which features are significant in predicting the price of a house\n",
    "- how well those features describe the price of a house\n",
    "- optimal value of strength of penalty (λ) for ridge and lasso\n",
    "\n",
    "# <font color='navy'><u>Exploratory Data Analysis</u></font>"
   ]
  },
  {
   "cell_type": "code",
   "execution_count": 1,
   "id": "e930a1e7",
   "metadata": {},
   "outputs": [],
   "source": [
    "#importing libraries to perform EDA\n",
    "import numpy as np\n",
    "import pandas as pd\n",
    "import matplotlib.pyplot as plt\n",
    "import seaborn as sns\n",
    "import warnings\n",
    "warnings.filterwarnings('ignore')"
   ]
  },
  {
   "cell_type": "code",
   "execution_count": 2,
   "id": "ebd2646c",
   "metadata": {},
   "outputs": [
    {
     "data": {
      "text/html": [
       "<div>\n",
       "<style scoped>\n",
       "    .dataframe tbody tr th:only-of-type {\n",
       "        vertical-align: middle;\n",
       "    }\n",
       "\n",
       "    .dataframe tbody tr th {\n",
       "        vertical-align: top;\n",
       "    }\n",
       "\n",
       "    .dataframe thead th {\n",
       "        text-align: right;\n",
       "    }\n",
       "</style>\n",
       "<table border=\"1\" class=\"dataframe\">\n",
       "  <thead>\n",
       "    <tr style=\"text-align: right;\">\n",
       "      <th></th>\n",
       "      <th>Id</th>\n",
       "      <th>MSSubClass</th>\n",
       "      <th>MSZoning</th>\n",
       "      <th>LotFrontage</th>\n",
       "      <th>LotArea</th>\n",
       "      <th>Street</th>\n",
       "      <th>Alley</th>\n",
       "      <th>LotShape</th>\n",
       "      <th>LandContour</th>\n",
       "      <th>Utilities</th>\n",
       "      <th>...</th>\n",
       "      <th>PoolArea</th>\n",
       "      <th>PoolQC</th>\n",
       "      <th>Fence</th>\n",
       "      <th>MiscFeature</th>\n",
       "      <th>MiscVal</th>\n",
       "      <th>MoSold</th>\n",
       "      <th>YrSold</th>\n",
       "      <th>SaleType</th>\n",
       "      <th>SaleCondition</th>\n",
       "      <th>SalePrice</th>\n",
       "    </tr>\n",
       "  </thead>\n",
       "  <tbody>\n",
       "    <tr>\n",
       "      <th>0</th>\n",
       "      <td>1</td>\n",
       "      <td>60</td>\n",
       "      <td>RL</td>\n",
       "      <td>65.0</td>\n",
       "      <td>8450</td>\n",
       "      <td>Pave</td>\n",
       "      <td>NaN</td>\n",
       "      <td>Reg</td>\n",
       "      <td>Lvl</td>\n",
       "      <td>AllPub</td>\n",
       "      <td>...</td>\n",
       "      <td>0</td>\n",
       "      <td>NaN</td>\n",
       "      <td>NaN</td>\n",
       "      <td>NaN</td>\n",
       "      <td>0</td>\n",
       "      <td>2</td>\n",
       "      <td>2008</td>\n",
       "      <td>WD</td>\n",
       "      <td>Normal</td>\n",
       "      <td>208500</td>\n",
       "    </tr>\n",
       "    <tr>\n",
       "      <th>1</th>\n",
       "      <td>2</td>\n",
       "      <td>20</td>\n",
       "      <td>RL</td>\n",
       "      <td>80.0</td>\n",
       "      <td>9600</td>\n",
       "      <td>Pave</td>\n",
       "      <td>NaN</td>\n",
       "      <td>Reg</td>\n",
       "      <td>Lvl</td>\n",
       "      <td>AllPub</td>\n",
       "      <td>...</td>\n",
       "      <td>0</td>\n",
       "      <td>NaN</td>\n",
       "      <td>NaN</td>\n",
       "      <td>NaN</td>\n",
       "      <td>0</td>\n",
       "      <td>5</td>\n",
       "      <td>2007</td>\n",
       "      <td>WD</td>\n",
       "      <td>Normal</td>\n",
       "      <td>181500</td>\n",
       "    </tr>\n",
       "    <tr>\n",
       "      <th>2</th>\n",
       "      <td>3</td>\n",
       "      <td>60</td>\n",
       "      <td>RL</td>\n",
       "      <td>68.0</td>\n",
       "      <td>11250</td>\n",
       "      <td>Pave</td>\n",
       "      <td>NaN</td>\n",
       "      <td>IR1</td>\n",
       "      <td>Lvl</td>\n",
       "      <td>AllPub</td>\n",
       "      <td>...</td>\n",
       "      <td>0</td>\n",
       "      <td>NaN</td>\n",
       "      <td>NaN</td>\n",
       "      <td>NaN</td>\n",
       "      <td>0</td>\n",
       "      <td>9</td>\n",
       "      <td>2008</td>\n",
       "      <td>WD</td>\n",
       "      <td>Normal</td>\n",
       "      <td>223500</td>\n",
       "    </tr>\n",
       "    <tr>\n",
       "      <th>3</th>\n",
       "      <td>4</td>\n",
       "      <td>70</td>\n",
       "      <td>RL</td>\n",
       "      <td>60.0</td>\n",
       "      <td>9550</td>\n",
       "      <td>Pave</td>\n",
       "      <td>NaN</td>\n",
       "      <td>IR1</td>\n",
       "      <td>Lvl</td>\n",
       "      <td>AllPub</td>\n",
       "      <td>...</td>\n",
       "      <td>0</td>\n",
       "      <td>NaN</td>\n",
       "      <td>NaN</td>\n",
       "      <td>NaN</td>\n",
       "      <td>0</td>\n",
       "      <td>2</td>\n",
       "      <td>2006</td>\n",
       "      <td>WD</td>\n",
       "      <td>Abnorml</td>\n",
       "      <td>140000</td>\n",
       "    </tr>\n",
       "    <tr>\n",
       "      <th>4</th>\n",
       "      <td>5</td>\n",
       "      <td>60</td>\n",
       "      <td>RL</td>\n",
       "      <td>84.0</td>\n",
       "      <td>14260</td>\n",
       "      <td>Pave</td>\n",
       "      <td>NaN</td>\n",
       "      <td>IR1</td>\n",
       "      <td>Lvl</td>\n",
       "      <td>AllPub</td>\n",
       "      <td>...</td>\n",
       "      <td>0</td>\n",
       "      <td>NaN</td>\n",
       "      <td>NaN</td>\n",
       "      <td>NaN</td>\n",
       "      <td>0</td>\n",
       "      <td>12</td>\n",
       "      <td>2008</td>\n",
       "      <td>WD</td>\n",
       "      <td>Normal</td>\n",
       "      <td>250000</td>\n",
       "    </tr>\n",
       "  </tbody>\n",
       "</table>\n",
       "<p>5 rows × 81 columns</p>\n",
       "</div>"
      ],
      "text/plain": [
       "   Id  MSSubClass MSZoning  LotFrontage  LotArea Street Alley LotShape  \\\n",
       "0   1          60       RL         65.0     8450   Pave   NaN      Reg   \n",
       "1   2          20       RL         80.0     9600   Pave   NaN      Reg   \n",
       "2   3          60       RL         68.0    11250   Pave   NaN      IR1   \n",
       "3   4          70       RL         60.0     9550   Pave   NaN      IR1   \n",
       "4   5          60       RL         84.0    14260   Pave   NaN      IR1   \n",
       "\n",
       "  LandContour Utilities  ... PoolArea PoolQC Fence MiscFeature MiscVal MoSold  \\\n",
       "0         Lvl    AllPub  ...        0    NaN   NaN         NaN       0      2   \n",
       "1         Lvl    AllPub  ...        0    NaN   NaN         NaN       0      5   \n",
       "2         Lvl    AllPub  ...        0    NaN   NaN         NaN       0      9   \n",
       "3         Lvl    AllPub  ...        0    NaN   NaN         NaN       0      2   \n",
       "4         Lvl    AllPub  ...        0    NaN   NaN         NaN       0     12   \n",
       "\n",
       "  YrSold  SaleType  SaleCondition  SalePrice  \n",
       "0   2008        WD         Normal     208500  \n",
       "1   2007        WD         Normal     181500  \n",
       "2   2008        WD         Normal     223500  \n",
       "3   2006        WD        Abnorml     140000  \n",
       "4   2008        WD         Normal     250000  \n",
       "\n",
       "[5 rows x 81 columns]"
      ]
     },
     "execution_count": 2,
     "metadata": {},
     "output_type": "execute_result"
    }
   ],
   "source": [
    "#reading the data csv and converting it into a dataframe\n",
    "df=pd.read_csv('train.csv')\n",
    "\n",
    "#quick peek into the dataframe\n",
    "df.head()"
   ]
  },
  {
   "cell_type": "markdown",
   "id": "20de490e",
   "metadata": {},
   "source": [
    "Refer data dictionary <font color='grey'>(provided separately)</font> to completely understand various features and their values in the above dataframe"
   ]
  },
  {
   "cell_type": "code",
   "execution_count": 3,
   "id": "beb78aec",
   "metadata": {},
   "outputs": [
    {
     "name": "stdout",
     "output_type": "stream",
     "text": [
      "<class 'pandas.core.frame.DataFrame'>\n",
      "RangeIndex: 1460 entries, 0 to 1459\n",
      "Data columns (total 81 columns):\n",
      " #   Column         Non-Null Count  Dtype  \n",
      "---  ------         --------------  -----  \n",
      " 0   Id             1460 non-null   int64  \n",
      " 1   MSSubClass     1460 non-null   int64  \n",
      " 2   MSZoning       1460 non-null   object \n",
      " 3   LotFrontage    1201 non-null   float64\n",
      " 4   LotArea        1460 non-null   int64  \n",
      " 5   Street         1460 non-null   object \n",
      " 6   Alley          91 non-null     object \n",
      " 7   LotShape       1460 non-null   object \n",
      " 8   LandContour    1460 non-null   object \n",
      " 9   Utilities      1460 non-null   object \n",
      " 10  LotConfig      1460 non-null   object \n",
      " 11  LandSlope      1460 non-null   object \n",
      " 12  Neighborhood   1460 non-null   object \n",
      " 13  Condition1     1460 non-null   object \n",
      " 14  Condition2     1460 non-null   object \n",
      " 15  BldgType       1460 non-null   object \n",
      " 16  HouseStyle     1460 non-null   object \n",
      " 17  OverallQual    1460 non-null   int64  \n",
      " 18  OverallCond    1460 non-null   int64  \n",
      " 19  YearBuilt      1460 non-null   int64  \n",
      " 20  YearRemodAdd   1460 non-null   int64  \n",
      " 21  RoofStyle      1460 non-null   object \n",
      " 22  RoofMatl       1460 non-null   object \n",
      " 23  Exterior1st    1460 non-null   object \n",
      " 24  Exterior2nd    1460 non-null   object \n",
      " 25  MasVnrType     1452 non-null   object \n",
      " 26  MasVnrArea     1452 non-null   float64\n",
      " 27  ExterQual      1460 non-null   object \n",
      " 28  ExterCond      1460 non-null   object \n",
      " 29  Foundation     1460 non-null   object \n",
      " 30  BsmtQual       1423 non-null   object \n",
      " 31  BsmtCond       1423 non-null   object \n",
      " 32  BsmtExposure   1422 non-null   object \n",
      " 33  BsmtFinType1   1423 non-null   object \n",
      " 34  BsmtFinSF1     1460 non-null   int64  \n",
      " 35  BsmtFinType2   1422 non-null   object \n",
      " 36  BsmtFinSF2     1460 non-null   int64  \n",
      " 37  BsmtUnfSF      1460 non-null   int64  \n",
      " 38  TotalBsmtSF    1460 non-null   int64  \n",
      " 39  Heating        1460 non-null   object \n",
      " 40  HeatingQC      1460 non-null   object \n",
      " 41  CentralAir     1460 non-null   object \n",
      " 42  Electrical     1459 non-null   object \n",
      " 43  1stFlrSF       1460 non-null   int64  \n",
      " 44  2ndFlrSF       1460 non-null   int64  \n",
      " 45  LowQualFinSF   1460 non-null   int64  \n",
      " 46  GrLivArea      1460 non-null   int64  \n",
      " 47  BsmtFullBath   1460 non-null   int64  \n",
      " 48  BsmtHalfBath   1460 non-null   int64  \n",
      " 49  FullBath       1460 non-null   int64  \n",
      " 50  HalfBath       1460 non-null   int64  \n",
      " 51  BedroomAbvGr   1460 non-null   int64  \n",
      " 52  KitchenAbvGr   1460 non-null   int64  \n",
      " 53  KitchenQual    1460 non-null   object \n",
      " 54  TotRmsAbvGrd   1460 non-null   int64  \n",
      " 55  Functional     1460 non-null   object \n",
      " 56  Fireplaces     1460 non-null   int64  \n",
      " 57  FireplaceQu    770 non-null    object \n",
      " 58  GarageType     1379 non-null   object \n",
      " 59  GarageYrBlt    1379 non-null   float64\n",
      " 60  GarageFinish   1379 non-null   object \n",
      " 61  GarageCars     1460 non-null   int64  \n",
      " 62  GarageArea     1460 non-null   int64  \n",
      " 63  GarageQual     1379 non-null   object \n",
      " 64  GarageCond     1379 non-null   object \n",
      " 65  PavedDrive     1460 non-null   object \n",
      " 66  WoodDeckSF     1460 non-null   int64  \n",
      " 67  OpenPorchSF    1460 non-null   int64  \n",
      " 68  EnclosedPorch  1460 non-null   int64  \n",
      " 69  3SsnPorch      1460 non-null   int64  \n",
      " 70  ScreenPorch    1460 non-null   int64  \n",
      " 71  PoolArea       1460 non-null   int64  \n",
      " 72  PoolQC         7 non-null      object \n",
      " 73  Fence          281 non-null    object \n",
      " 74  MiscFeature    54 non-null     object \n",
      " 75  MiscVal        1460 non-null   int64  \n",
      " 76  MoSold         1460 non-null   int64  \n",
      " 77  YrSold         1460 non-null   int64  \n",
      " 78  SaleType       1460 non-null   object \n",
      " 79  SaleCondition  1460 non-null   object \n",
      " 80  SalePrice      1460 non-null   int64  \n",
      "dtypes: float64(3), int64(35), object(43)\n",
      "memory usage: 924.0+ KB\n"
     ]
    }
   ],
   "source": [
    "# checking the datatypes in this dataframe\n",
    "df.info()"
   ]
  },
  {
   "cell_type": "markdown",
   "id": "a81cd5c1",
   "metadata": {},
   "source": [
    "There are some columns having very high number of nulls and also majority of the columns are of <b>object</b> dtype hence we need to do dtype conversions or apply some other data preprocessing techniques"
   ]
  },
  {
   "cell_type": "code",
   "execution_count": 4,
   "id": "ad2ad87e",
   "metadata": {},
   "outputs": [
    {
     "data": {
      "text/html": [
       "<div>\n",
       "<style scoped>\n",
       "    .dataframe tbody tr th:only-of-type {\n",
       "        vertical-align: middle;\n",
       "    }\n",
       "\n",
       "    .dataframe tbody tr th {\n",
       "        vertical-align: top;\n",
       "    }\n",
       "\n",
       "    .dataframe thead th {\n",
       "        text-align: right;\n",
       "    }\n",
       "</style>\n",
       "<table border=\"1\" class=\"dataframe\">\n",
       "  <thead>\n",
       "    <tr style=\"text-align: right;\">\n",
       "      <th></th>\n",
       "      <th>Id</th>\n",
       "      <th>MSSubClass</th>\n",
       "      <th>LotFrontage</th>\n",
       "      <th>LotArea</th>\n",
       "      <th>OverallQual</th>\n",
       "      <th>OverallCond</th>\n",
       "      <th>YearBuilt</th>\n",
       "      <th>YearRemodAdd</th>\n",
       "      <th>MasVnrArea</th>\n",
       "      <th>BsmtFinSF1</th>\n",
       "      <th>...</th>\n",
       "      <th>WoodDeckSF</th>\n",
       "      <th>OpenPorchSF</th>\n",
       "      <th>EnclosedPorch</th>\n",
       "      <th>3SsnPorch</th>\n",
       "      <th>ScreenPorch</th>\n",
       "      <th>PoolArea</th>\n",
       "      <th>MiscVal</th>\n",
       "      <th>MoSold</th>\n",
       "      <th>YrSold</th>\n",
       "      <th>SalePrice</th>\n",
       "    </tr>\n",
       "  </thead>\n",
       "  <tbody>\n",
       "    <tr>\n",
       "      <th>count</th>\n",
       "      <td>1460.000000</td>\n",
       "      <td>1460.000000</td>\n",
       "      <td>1201.000000</td>\n",
       "      <td>1460.000000</td>\n",
       "      <td>1460.000000</td>\n",
       "      <td>1460.000000</td>\n",
       "      <td>1460.000000</td>\n",
       "      <td>1460.000000</td>\n",
       "      <td>1452.000000</td>\n",
       "      <td>1460.000000</td>\n",
       "      <td>...</td>\n",
       "      <td>1460.000000</td>\n",
       "      <td>1460.000000</td>\n",
       "      <td>1460.000000</td>\n",
       "      <td>1460.000000</td>\n",
       "      <td>1460.000000</td>\n",
       "      <td>1460.000000</td>\n",
       "      <td>1460.000000</td>\n",
       "      <td>1460.000000</td>\n",
       "      <td>1460.000000</td>\n",
       "      <td>1460.000000</td>\n",
       "    </tr>\n",
       "    <tr>\n",
       "      <th>mean</th>\n",
       "      <td>730.500000</td>\n",
       "      <td>56.897260</td>\n",
       "      <td>70.049958</td>\n",
       "      <td>10516.828082</td>\n",
       "      <td>6.099315</td>\n",
       "      <td>5.575342</td>\n",
       "      <td>1971.267808</td>\n",
       "      <td>1984.865753</td>\n",
       "      <td>103.685262</td>\n",
       "      <td>443.639726</td>\n",
       "      <td>...</td>\n",
       "      <td>94.244521</td>\n",
       "      <td>46.660274</td>\n",
       "      <td>21.954110</td>\n",
       "      <td>3.409589</td>\n",
       "      <td>15.060959</td>\n",
       "      <td>2.758904</td>\n",
       "      <td>43.489041</td>\n",
       "      <td>6.321918</td>\n",
       "      <td>2007.815753</td>\n",
       "      <td>180921.195890</td>\n",
       "    </tr>\n",
       "    <tr>\n",
       "      <th>std</th>\n",
       "      <td>421.610009</td>\n",
       "      <td>42.300571</td>\n",
       "      <td>24.284752</td>\n",
       "      <td>9981.264932</td>\n",
       "      <td>1.382997</td>\n",
       "      <td>1.112799</td>\n",
       "      <td>30.202904</td>\n",
       "      <td>20.645407</td>\n",
       "      <td>181.066207</td>\n",
       "      <td>456.098091</td>\n",
       "      <td>...</td>\n",
       "      <td>125.338794</td>\n",
       "      <td>66.256028</td>\n",
       "      <td>61.119149</td>\n",
       "      <td>29.317331</td>\n",
       "      <td>55.757415</td>\n",
       "      <td>40.177307</td>\n",
       "      <td>496.123024</td>\n",
       "      <td>2.703626</td>\n",
       "      <td>1.328095</td>\n",
       "      <td>79442.502883</td>\n",
       "    </tr>\n",
       "    <tr>\n",
       "      <th>min</th>\n",
       "      <td>1.000000</td>\n",
       "      <td>20.000000</td>\n",
       "      <td>21.000000</td>\n",
       "      <td>1300.000000</td>\n",
       "      <td>1.000000</td>\n",
       "      <td>1.000000</td>\n",
       "      <td>1872.000000</td>\n",
       "      <td>1950.000000</td>\n",
       "      <td>0.000000</td>\n",
       "      <td>0.000000</td>\n",
       "      <td>...</td>\n",
       "      <td>0.000000</td>\n",
       "      <td>0.000000</td>\n",
       "      <td>0.000000</td>\n",
       "      <td>0.000000</td>\n",
       "      <td>0.000000</td>\n",
       "      <td>0.000000</td>\n",
       "      <td>0.000000</td>\n",
       "      <td>1.000000</td>\n",
       "      <td>2006.000000</td>\n",
       "      <td>34900.000000</td>\n",
       "    </tr>\n",
       "    <tr>\n",
       "      <th>25%</th>\n",
       "      <td>365.750000</td>\n",
       "      <td>20.000000</td>\n",
       "      <td>59.000000</td>\n",
       "      <td>7553.500000</td>\n",
       "      <td>5.000000</td>\n",
       "      <td>5.000000</td>\n",
       "      <td>1954.000000</td>\n",
       "      <td>1967.000000</td>\n",
       "      <td>0.000000</td>\n",
       "      <td>0.000000</td>\n",
       "      <td>...</td>\n",
       "      <td>0.000000</td>\n",
       "      <td>0.000000</td>\n",
       "      <td>0.000000</td>\n",
       "      <td>0.000000</td>\n",
       "      <td>0.000000</td>\n",
       "      <td>0.000000</td>\n",
       "      <td>0.000000</td>\n",
       "      <td>5.000000</td>\n",
       "      <td>2007.000000</td>\n",
       "      <td>129975.000000</td>\n",
       "    </tr>\n",
       "    <tr>\n",
       "      <th>50%</th>\n",
       "      <td>730.500000</td>\n",
       "      <td>50.000000</td>\n",
       "      <td>69.000000</td>\n",
       "      <td>9478.500000</td>\n",
       "      <td>6.000000</td>\n",
       "      <td>5.000000</td>\n",
       "      <td>1973.000000</td>\n",
       "      <td>1994.000000</td>\n",
       "      <td>0.000000</td>\n",
       "      <td>383.500000</td>\n",
       "      <td>...</td>\n",
       "      <td>0.000000</td>\n",
       "      <td>25.000000</td>\n",
       "      <td>0.000000</td>\n",
       "      <td>0.000000</td>\n",
       "      <td>0.000000</td>\n",
       "      <td>0.000000</td>\n",
       "      <td>0.000000</td>\n",
       "      <td>6.000000</td>\n",
       "      <td>2008.000000</td>\n",
       "      <td>163000.000000</td>\n",
       "    </tr>\n",
       "    <tr>\n",
       "      <th>75%</th>\n",
       "      <td>1095.250000</td>\n",
       "      <td>70.000000</td>\n",
       "      <td>80.000000</td>\n",
       "      <td>11601.500000</td>\n",
       "      <td>7.000000</td>\n",
       "      <td>6.000000</td>\n",
       "      <td>2000.000000</td>\n",
       "      <td>2004.000000</td>\n",
       "      <td>166.000000</td>\n",
       "      <td>712.250000</td>\n",
       "      <td>...</td>\n",
       "      <td>168.000000</td>\n",
       "      <td>68.000000</td>\n",
       "      <td>0.000000</td>\n",
       "      <td>0.000000</td>\n",
       "      <td>0.000000</td>\n",
       "      <td>0.000000</td>\n",
       "      <td>0.000000</td>\n",
       "      <td>8.000000</td>\n",
       "      <td>2009.000000</td>\n",
       "      <td>214000.000000</td>\n",
       "    </tr>\n",
       "    <tr>\n",
       "      <th>max</th>\n",
       "      <td>1460.000000</td>\n",
       "      <td>190.000000</td>\n",
       "      <td>313.000000</td>\n",
       "      <td>215245.000000</td>\n",
       "      <td>10.000000</td>\n",
       "      <td>9.000000</td>\n",
       "      <td>2010.000000</td>\n",
       "      <td>2010.000000</td>\n",
       "      <td>1600.000000</td>\n",
       "      <td>5644.000000</td>\n",
       "      <td>...</td>\n",
       "      <td>857.000000</td>\n",
       "      <td>547.000000</td>\n",
       "      <td>552.000000</td>\n",
       "      <td>508.000000</td>\n",
       "      <td>480.000000</td>\n",
       "      <td>738.000000</td>\n",
       "      <td>15500.000000</td>\n",
       "      <td>12.000000</td>\n",
       "      <td>2010.000000</td>\n",
       "      <td>755000.000000</td>\n",
       "    </tr>\n",
       "  </tbody>\n",
       "</table>\n",
       "<p>8 rows × 38 columns</p>\n",
       "</div>"
      ],
      "text/plain": [
       "                Id   MSSubClass  LotFrontage        LotArea  OverallQual  \\\n",
       "count  1460.000000  1460.000000  1201.000000    1460.000000  1460.000000   \n",
       "mean    730.500000    56.897260    70.049958   10516.828082     6.099315   \n",
       "std     421.610009    42.300571    24.284752    9981.264932     1.382997   \n",
       "min       1.000000    20.000000    21.000000    1300.000000     1.000000   \n",
       "25%     365.750000    20.000000    59.000000    7553.500000     5.000000   \n",
       "50%     730.500000    50.000000    69.000000    9478.500000     6.000000   \n",
       "75%    1095.250000    70.000000    80.000000   11601.500000     7.000000   \n",
       "max    1460.000000   190.000000   313.000000  215245.000000    10.000000   \n",
       "\n",
       "       OverallCond    YearBuilt  YearRemodAdd   MasVnrArea   BsmtFinSF1  ...  \\\n",
       "count  1460.000000  1460.000000   1460.000000  1452.000000  1460.000000  ...   \n",
       "mean      5.575342  1971.267808   1984.865753   103.685262   443.639726  ...   \n",
       "std       1.112799    30.202904     20.645407   181.066207   456.098091  ...   \n",
       "min       1.000000  1872.000000   1950.000000     0.000000     0.000000  ...   \n",
       "25%       5.000000  1954.000000   1967.000000     0.000000     0.000000  ...   \n",
       "50%       5.000000  1973.000000   1994.000000     0.000000   383.500000  ...   \n",
       "75%       6.000000  2000.000000   2004.000000   166.000000   712.250000  ...   \n",
       "max       9.000000  2010.000000   2010.000000  1600.000000  5644.000000  ...   \n",
       "\n",
       "        WoodDeckSF  OpenPorchSF  EnclosedPorch    3SsnPorch  ScreenPorch  \\\n",
       "count  1460.000000  1460.000000    1460.000000  1460.000000  1460.000000   \n",
       "mean     94.244521    46.660274      21.954110     3.409589    15.060959   \n",
       "std     125.338794    66.256028      61.119149    29.317331    55.757415   \n",
       "min       0.000000     0.000000       0.000000     0.000000     0.000000   \n",
       "25%       0.000000     0.000000       0.000000     0.000000     0.000000   \n",
       "50%       0.000000    25.000000       0.000000     0.000000     0.000000   \n",
       "75%     168.000000    68.000000       0.000000     0.000000     0.000000   \n",
       "max     857.000000   547.000000     552.000000   508.000000   480.000000   \n",
       "\n",
       "          PoolArea       MiscVal       MoSold       YrSold      SalePrice  \n",
       "count  1460.000000   1460.000000  1460.000000  1460.000000    1460.000000  \n",
       "mean      2.758904     43.489041     6.321918  2007.815753  180921.195890  \n",
       "std      40.177307    496.123024     2.703626     1.328095   79442.502883  \n",
       "min       0.000000      0.000000     1.000000  2006.000000   34900.000000  \n",
       "25%       0.000000      0.000000     5.000000  2007.000000  129975.000000  \n",
       "50%       0.000000      0.000000     6.000000  2008.000000  163000.000000  \n",
       "75%       0.000000      0.000000     8.000000  2009.000000  214000.000000  \n",
       "max     738.000000  15500.000000    12.000000  2010.000000  755000.000000  \n",
       "\n",
       "[8 rows x 38 columns]"
      ]
     },
     "execution_count": 4,
     "metadata": {},
     "output_type": "execute_result"
    }
   ],
   "source": [
    "# checking the statistical summary of the dataframe\n",
    "df.describe()"
   ]
  },
  {
   "cell_type": "markdown",
   "id": "a15fd592",
   "metadata": {},
   "source": [
    "<font color='red'><b>Id</b></font> is merely an unique identification number for each entry and it does not play any role in predicting the <font color='darkgreen'><b>SalePrice</b></font>, hence we're going to drop it."
   ]
  },
  {
   "cell_type": "code",
   "execution_count": 5,
   "id": "c23c55fb",
   "metadata": {},
   "outputs": [],
   "source": [
    "df.drop('Id', axis=1, inplace=True)"
   ]
  },
  {
   "cell_type": "markdown",
   "id": "df1c98f7",
   "metadata": {},
   "source": [
    "Let us now find columns having highest number of nulls"
   ]
  },
  {
   "cell_type": "code",
   "execution_count": 6,
   "id": "29bbd9da",
   "metadata": {},
   "outputs": [
    {
     "data": {
      "text/plain": [
       "PoolQC          99.520548\n",
       "MiscFeature     96.301370\n",
       "Alley           93.767123\n",
       "Fence           80.753425\n",
       "FireplaceQu     47.260274\n",
       "LotFrontage     17.739726\n",
       "GarageYrBlt      5.547945\n",
       "GarageCond       5.547945\n",
       "GarageType       5.547945\n",
       "GarageFinish     5.547945\n",
       "GarageQual       5.547945\n",
       "BsmtExposure     2.602740\n",
       "BsmtFinType2     2.602740\n",
       "BsmtCond         2.534247\n",
       "BsmtQual         2.534247\n",
       "BsmtFinType1     2.534247\n",
       "MasVnrArea       0.547945\n",
       "MasVnrType       0.547945\n",
       "Electrical       0.068493\n",
       "MSSubClass       0.000000\n",
       "dtype: float64"
      ]
     },
     "execution_count": 6,
     "metadata": {},
     "output_type": "execute_result"
    }
   ],
   "source": [
    "(100*(df.isnull().sum()/df.shape[0])).sort_values(ascending=False)[:20]"
   ]
  },
  {
   "cell_type": "markdown",
   "id": "4c29d73a",
   "metadata": {},
   "source": [
    "The above is a list of features with their respective null values (%) in descending order. But if we read the <font color='navy'><b>data dictionary</b></font> carefully, we'll realize that in almost all of the above listed features, it was stated that <font color='red'><b>NaN</b></font>s are not actual missing values, it merely denotes that particular entry <font color='grey'>(house)</font> doesn't have that particular feature. So the best way to treat <font color='red'><b>NaN</b></font>s in these columns is to fill them up with some string such as '<font color='darkgreen'><b>None</b></font>'.\n",
    "\n",
    "The only exceptions in the above list are the features <font color='red'><b>LotFrontage</b></font>, <font color='red'><b>Electrical</b></font>, <font color='red'><b>MasVnrType</b></font> and <font color='red'><b>MasVnrArea</b></font> because only for these columns there's no mentioning of how to interpret the <font color='red'><b>NaN</b></font>s. So we can assume that in these columns <font color='red'><b>NaN</b></font>s are truly missing values and we'll have to come up with a strategy to treat them.\n",
    "\n",
    "<font color='red'><b>Electrical</b></font>, <font color='red'><b>MasVnrType</b></font> and <font color='red'><b>MasVnrArea</b></font> are fairly easy to deal with, because less than <b>1%</b> of the dataset has nulls. So we can afford to remove those entries from our dataframe. But <font color='red'><b>LotFrontage</b></font> has <b>17.73%</b> missing values, we can't afford to delete such huge proportion of our particularly small dataset, lets do further analysis of this feature and determine whether we can impute the missing values or if we should drop the feature itself."
   ]
  },
  {
   "cell_type": "code",
   "execution_count": 7,
   "id": "294c2653",
   "metadata": {},
   "outputs": [
    {
     "data": {
      "text/html": [
       "<div>\n",
       "<style scoped>\n",
       "    .dataframe tbody tr th:only-of-type {\n",
       "        vertical-align: middle;\n",
       "    }\n",
       "\n",
       "    .dataframe tbody tr th {\n",
       "        vertical-align: top;\n",
       "    }\n",
       "\n",
       "    .dataframe thead th {\n",
       "        text-align: right;\n",
       "    }\n",
       "</style>\n",
       "<table border=\"1\" class=\"dataframe\">\n",
       "  <thead>\n",
       "    <tr style=\"text-align: right;\">\n",
       "      <th></th>\n",
       "      <th>LotFrontage</th>\n",
       "    </tr>\n",
       "  </thead>\n",
       "  <tbody>\n",
       "    <tr>\n",
       "      <th>count</th>\n",
       "      <td>1201.000000</td>\n",
       "    </tr>\n",
       "    <tr>\n",
       "      <th>mean</th>\n",
       "      <td>70.049958</td>\n",
       "    </tr>\n",
       "    <tr>\n",
       "      <th>std</th>\n",
       "      <td>24.284752</td>\n",
       "    </tr>\n",
       "    <tr>\n",
       "      <th>min</th>\n",
       "      <td>21.000000</td>\n",
       "    </tr>\n",
       "    <tr>\n",
       "      <th>25%</th>\n",
       "      <td>59.000000</td>\n",
       "    </tr>\n",
       "    <tr>\n",
       "      <th>50%</th>\n",
       "      <td>69.000000</td>\n",
       "    </tr>\n",
       "    <tr>\n",
       "      <th>75%</th>\n",
       "      <td>80.000000</td>\n",
       "    </tr>\n",
       "    <tr>\n",
       "      <th>max</th>\n",
       "      <td>313.000000</td>\n",
       "    </tr>\n",
       "  </tbody>\n",
       "</table>\n",
       "</div>"
      ],
      "text/plain": [
       "       LotFrontage\n",
       "count  1201.000000\n",
       "mean     70.049958\n",
       "std      24.284752\n",
       "min      21.000000\n",
       "25%      59.000000\n",
       "50%      69.000000\n",
       "75%      80.000000\n",
       "max     313.000000"
      ]
     },
     "execution_count": 7,
     "metadata": {},
     "output_type": "execute_result"
    }
   ],
   "source": [
    "# statistical summary of 'LotFrontage'\n",
    "df[['LotFrontage']].describe()"
   ]
  },
  {
   "cell_type": "markdown",
   "id": "82eab199",
   "metadata": {},
   "source": [
    "<font color='red'><b>LotFrontage</b></font> has mean and median around <b>70</b>, but the standard deviation is around <b>24</b>, which means that considering even 1 standard deviation of either side will result in an interval as wide as <b>[46,94]</b>. Hence we cannot properly justify imputing the missing values with the mean, so we are going to drop this feature from our dataframe."
   ]
  },
  {
   "cell_type": "code",
   "execution_count": 8,
   "id": "7f9cbc20",
   "metadata": {},
   "outputs": [],
   "source": [
    "# dropping LotFrontage feature\n",
    "df.drop('LotFrontage',axis=1,inplace=True)"
   ]
  },
  {
   "cell_type": "code",
   "execution_count": 9,
   "id": "cc1a7201",
   "metadata": {},
   "outputs": [],
   "source": [
    "# dropping entries with null values for Electrical\n",
    "df=df[~df.Electrical.isna()]"
   ]
  },
  {
   "cell_type": "code",
   "execution_count": 10,
   "id": "539e8081",
   "metadata": {},
   "outputs": [],
   "source": [
    "# dropping entries with null values for MasVnrType\n",
    "df=df[~df.MasVnrType.isna()]"
   ]
  },
  {
   "cell_type": "code",
   "execution_count": 11,
   "id": "936dd399",
   "metadata": {},
   "outputs": [],
   "source": [
    "# dropping entries with null values for MasVnrArea\n",
    "df=df[~df.MasVnrArea.isna()]"
   ]
  },
  {
   "cell_type": "code",
   "execution_count": 12,
   "id": "d390504d",
   "metadata": {},
   "outputs": [
    {
     "name": "stdout",
     "output_type": "stream",
     "text": [
      "<class 'pandas.core.frame.DataFrame'>\n",
      "Int64Index: 1451 entries, 0 to 1459\n",
      "Data columns (total 15 columns):\n",
      " #   Column        Non-Null Count  Dtype  \n",
      "---  ------        --------------  -----  \n",
      " 0   Alley         90 non-null     object \n",
      " 1   BsmtQual      1414 non-null   object \n",
      " 2   BsmtCond      1414 non-null   object \n",
      " 3   BsmtExposure  1413 non-null   object \n",
      " 4   BsmtFinType1  1414 non-null   object \n",
      " 5   BsmtFinType2  1413 non-null   object \n",
      " 6   FireplaceQu   766 non-null    object \n",
      " 7   GarageType    1370 non-null   object \n",
      " 8   GarageYrBlt   1370 non-null   float64\n",
      " 9   GarageFinish  1370 non-null   object \n",
      " 10  GarageQual    1370 non-null   object \n",
      " 11  GarageCond    1370 non-null   object \n",
      " 12  PoolQC        7 non-null      object \n",
      " 13  Fence         281 non-null    object \n",
      " 14  MiscFeature   54 non-null     object \n",
      "dtypes: float64(1), object(14)\n",
      "memory usage: 181.4+ KB\n"
     ]
    }
   ],
   "source": [
    "# finding features that still has nulls\n",
    "null_features=((df.isna().sum()>0).index)[df.isna().sum()>0]\n",
    "df[null_features].info()"
   ]
  },
  {
   "cell_type": "markdown",
   "id": "7370e09b",
   "metadata": {},
   "source": [
    "As clearly stated in the <font color='navy'><b>data dictionary</b></font>, <font color='red'><b>NaN</b></font>s are not truly missing values, it simply indicates the absence of that particular facility. Hence we're going to replace all <font color='red'><b>NaN</b></font>s in all these columns with the string '<font color='darkgreen'><b>None</b></font>'. The only exception is <font color='red'><b>GarageYrBlt</b></font>, because thats the only numerical feature in the above list and replacing it with <font color='darkgreen'><b>0</b></font> or absolutely anything else is very unreasonable. Hence we choose to drop this feature. "
   ]
  },
  {
   "cell_type": "code",
   "execution_count": 13,
   "id": "288b0ca9",
   "metadata": {},
   "outputs": [],
   "source": [
    "# dropping GarageYrBlt feature\n",
    "df.drop('GarageYrBlt',axis=1,inplace=True)"
   ]
  },
  {
   "cell_type": "code",
   "execution_count": 14,
   "id": "7c45b31a",
   "metadata": {},
   "outputs": [],
   "source": [
    "# filling NaN with 'None'\n",
    "df.fillna('None', inplace=True)"
   ]
  },
  {
   "cell_type": "code",
   "execution_count": 15,
   "id": "f99c4551",
   "metadata": {},
   "outputs": [
    {
     "data": {
      "text/plain": [
       "0"
      ]
     },
     "execution_count": 15,
     "metadata": {},
     "output_type": "execute_result"
    }
   ],
   "source": [
    "# checking for NaN\n",
    "df.isna().sum().sum()"
   ]
  },
  {
   "cell_type": "markdown",
   "id": "67427fb4",
   "metadata": {},
   "source": [
    "We have successfully removed all the <font color='red'><b>NaN</b></font>s by appropriate methods"
   ]
  },
  {
   "cell_type": "code",
   "execution_count": 16,
   "id": "b944dfa2",
   "metadata": {},
   "outputs": [
    {
     "data": {
      "text/plain": [
       "0"
      ]
     },
     "execution_count": 16,
     "metadata": {},
     "output_type": "execute_result"
    }
   ],
   "source": [
    "df.duplicated().sum()"
   ]
  },
  {
   "cell_type": "markdown",
   "id": "3a3d1c45",
   "metadata": {},
   "source": [
    "There are no duplicated records in our dataframe\n",
    "\n",
    "# <font color='navy'><u>Data Preprocessing & Further Analysis</u></font>\n",
    "From the problem statement, it is clear that <font color='darkgreen'><b>SalePrice</b></font> is the target variable. In this segment we are going to perform further statistical analysis and plot relevant graphs to understand the important influencing factors of the <font color='darkgreen'><b>SalePrice</b></font>. Before that we need to preprocess ordinal variables, nominal variables etc and some of the variables might look like numerical variables but if we read the data dictionary we'll realize that they're actually nominal variables for example <font color='darkviolet'><b>MSSubClass</b></font>."
   ]
  },
  {
   "cell_type": "code",
   "execution_count": 17,
   "id": "532bd24e",
   "metadata": {},
   "outputs": [],
   "source": [
    "# converting MSSubClass to string\n",
    "df.MSSubClass=df.MSSubClass.astype(str)"
   ]
  },
  {
   "cell_type": "code",
   "execution_count": 18,
   "id": "9e299c69",
   "metadata": {},
   "outputs": [
    {
     "name": "stdout",
     "output_type": "stream",
     "text": [
      "<class 'pandas.core.frame.DataFrame'>\n",
      "Int64Index: 1451 entries, 0 to 1459\n",
      "Data columns (total 78 columns):\n",
      " #   Column         Non-Null Count  Dtype  \n",
      "---  ------         --------------  -----  \n",
      " 0   MSSubClass     1451 non-null   object \n",
      " 1   MSZoning       1451 non-null   object \n",
      " 2   LotArea        1451 non-null   int64  \n",
      " 3   Street         1451 non-null   object \n",
      " 4   Alley          1451 non-null   object \n",
      " 5   LotShape       1451 non-null   object \n",
      " 6   LandContour    1451 non-null   object \n",
      " 7   Utilities      1451 non-null   object \n",
      " 8   LotConfig      1451 non-null   object \n",
      " 9   LandSlope      1451 non-null   object \n",
      " 10  Neighborhood   1451 non-null   object \n",
      " 11  Condition1     1451 non-null   object \n",
      " 12  Condition2     1451 non-null   object \n",
      " 13  BldgType       1451 non-null   object \n",
      " 14  HouseStyle     1451 non-null   object \n",
      " 15  OverallQual    1451 non-null   int64  \n",
      " 16  OverallCond    1451 non-null   int64  \n",
      " 17  YearBuilt      1451 non-null   int64  \n",
      " 18  YearRemodAdd   1451 non-null   int64  \n",
      " 19  RoofStyle      1451 non-null   object \n",
      " 20  RoofMatl       1451 non-null   object \n",
      " 21  Exterior1st    1451 non-null   object \n",
      " 22  Exterior2nd    1451 non-null   object \n",
      " 23  MasVnrType     1451 non-null   object \n",
      " 24  MasVnrArea     1451 non-null   float64\n",
      " 25  ExterQual      1451 non-null   object \n",
      " 26  ExterCond      1451 non-null   object \n",
      " 27  Foundation     1451 non-null   object \n",
      " 28  BsmtQual       1451 non-null   object \n",
      " 29  BsmtCond       1451 non-null   object \n",
      " 30  BsmtExposure   1451 non-null   object \n",
      " 31  BsmtFinType1   1451 non-null   object \n",
      " 32  BsmtFinSF1     1451 non-null   int64  \n",
      " 33  BsmtFinType2   1451 non-null   object \n",
      " 34  BsmtFinSF2     1451 non-null   int64  \n",
      " 35  BsmtUnfSF      1451 non-null   int64  \n",
      " 36  TotalBsmtSF    1451 non-null   int64  \n",
      " 37  Heating        1451 non-null   object \n",
      " 38  HeatingQC      1451 non-null   object \n",
      " 39  CentralAir     1451 non-null   object \n",
      " 40  Electrical     1451 non-null   object \n",
      " 41  1stFlrSF       1451 non-null   int64  \n",
      " 42  2ndFlrSF       1451 non-null   int64  \n",
      " 43  LowQualFinSF   1451 non-null   int64  \n",
      " 44  GrLivArea      1451 non-null   int64  \n",
      " 45  BsmtFullBath   1451 non-null   int64  \n",
      " 46  BsmtHalfBath   1451 non-null   int64  \n",
      " 47  FullBath       1451 non-null   int64  \n",
      " 48  HalfBath       1451 non-null   int64  \n",
      " 49  BedroomAbvGr   1451 non-null   int64  \n",
      " 50  KitchenAbvGr   1451 non-null   int64  \n",
      " 51  KitchenQual    1451 non-null   object \n",
      " 52  TotRmsAbvGrd   1451 non-null   int64  \n",
      " 53  Functional     1451 non-null   object \n",
      " 54  Fireplaces     1451 non-null   int64  \n",
      " 55  FireplaceQu    1451 non-null   object \n",
      " 56  GarageType     1451 non-null   object \n",
      " 57  GarageFinish   1451 non-null   object \n",
      " 58  GarageCars     1451 non-null   int64  \n",
      " 59  GarageArea     1451 non-null   int64  \n",
      " 60  GarageQual     1451 non-null   object \n",
      " 61  GarageCond     1451 non-null   object \n",
      " 62  PavedDrive     1451 non-null   object \n",
      " 63  WoodDeckSF     1451 non-null   int64  \n",
      " 64  OpenPorchSF    1451 non-null   int64  \n",
      " 65  EnclosedPorch  1451 non-null   int64  \n",
      " 66  3SsnPorch      1451 non-null   int64  \n",
      " 67  ScreenPorch    1451 non-null   int64  \n",
      " 68  PoolArea       1451 non-null   int64  \n",
      " 69  PoolQC         1451 non-null   object \n",
      " 70  Fence          1451 non-null   object \n",
      " 71  MiscFeature    1451 non-null   object \n",
      " 72  MiscVal        1451 non-null   int64  \n",
      " 73  MoSold         1451 non-null   int64  \n",
      " 74  YrSold         1451 non-null   int64  \n",
      " 75  SaleType       1451 non-null   object \n",
      " 76  SaleCondition  1451 non-null   object \n",
      " 77  SalePrice      1451 non-null   int64  \n",
      "dtypes: float64(1), int64(33), object(44)\n",
      "memory usage: 895.5+ KB\n"
     ]
    }
   ],
   "source": [
    "df.info()"
   ]
  },
  {
   "cell_type": "markdown",
   "id": "9946be7f",
   "metadata": {},
   "source": [
    "# <font color='navy'><u>Ordinal Encoding</u></font>\n",
    "\n",
    "Many <font color='grey'>(but not all)</font> of the ordinal features have the following classes:\n",
    "- <b>Ex</b>: Excellent\n",
    "- <b>Gd</b>: Good\n",
    "- <b>TA</b>: Average/Typical\n",
    "- <b>Fa</b>: Fair\n",
    "- <b>Po</b>: Poor\n",
    "- <b>None</b>: NaN\n",
    "\n",
    "Hence we create the following common encoder dictionary for quality-related features and also we create few more dictionaries to handle other types of ordinal features as well."
   ]
  },
  {
   "cell_type": "code",
   "execution_count": 19,
   "id": "c572f7a9",
   "metadata": {},
   "outputs": [],
   "source": [
    "encode_qual={'None':0, 'Po':1, 'Fa':2, 'TA':3, 'Gd':4, 'Ex':5}\n",
    "encode_path={'None':0, 'Grvl':1, 'Pave':2}\n",
    "encode_utils={'None':0, 'ELO':1, 'NoSeWa':2, 'NoSewr':3, 'AllPub':4}\n",
    "encode_expo={'None':0, 'No':1, 'Mn':2, 'Av':3, 'Gd':4}\n",
    "encode_finish={'GLQ':6, 'ALQ':5, 'BLQ':4, 'Rec':3, 'LwQ':2, 'Unf':1, 'None':0}\n",
    "encode_garage={'None':0, 'Unf':1, 'RFn':2, 'Fin':3}\n",
    "encode_binary={'Y':1, 'N':0}\n",
    "encode_paved={'N':0, 'P':1, 'Y':2}\n",
    "encode_func={'Sal':0, 'Sev':1, 'Maj2':2, 'Maj1':3, 'Mod':4, 'Min2':5, 'Min1': 6, 'Typ':6}\n",
    "encode_fence={'None':0, 'MnWw':1, 'GdWo':2, 'MnPrv':3, 'GdPrv':4}"
   ]
  },
  {
   "cell_type": "markdown",
   "id": "c02a1fe6",
   "metadata": {},
   "source": [
    "Now we're going to apply the above encodings on appropriate features"
   ]
  },
  {
   "cell_type": "code",
   "execution_count": 20,
   "id": "150f6eb4",
   "metadata": {},
   "outputs": [],
   "source": [
    "df.Street=df.Street.map(encode_path)\n",
    "df.Alley=df.Alley.map(encode_path)\n",
    "df.Utilities=df.Utilities.map(encode_utils)\n",
    "df.ExterQual=df.ExterQual.map(encode_qual)\n",
    "df.ExterCond=df.ExterCond.map(encode_qual)\n",
    "df.BsmtQual=df.BsmtQual.map(encode_qual)\n",
    "df.BsmtCond=df.BsmtCond.map(encode_qual)\n",
    "df.BsmtExposure=df.BsmtExposure.map(encode_expo)\n",
    "df.BsmtFinType1=df.BsmtFinType1.map(encode_finish)\n",
    "df.BsmtFinType2=df.BsmtFinType2.map(encode_finish)\n",
    "df.HeatingQC=df.HeatingQC.map(encode_qual)\n",
    "df.CentralAir=df.CentralAir.map(encode_binary)\n",
    "df.KitchenQual=df.KitchenQual.map(encode_qual)\n",
    "df.Functional=df.Functional.map(encode_func)\n",
    "df.FireplaceQu=df.FireplaceQu.map(encode_qual)\n",
    "df.GarageFinish=df.GarageFinish.map(encode_garage)\n",
    "df.GarageQual=df.GarageQual.map(encode_qual)\n",
    "df.GarageCond=df.GarageCond.map(encode_qual)\n",
    "df.PavedDrive=df.PavedDrive.map(encode_paved)\n",
    "df.PoolQC=df.PoolQC.map(encode_qual)\n",
    "df.Fence=df.Fence.map(encode_fence)"
   ]
  },
  {
   "cell_type": "markdown",
   "id": "1cc6e354",
   "metadata": {},
   "source": [
    "# <font color='navy'><u>One Hot Encoding</u></font>\n",
    "\n",
    "There are quite a few nominal features in this dataset such as <font color='darkgreen'><b>MSSubClass</b></font>, <font color='darkgreen'><b>MSZoning</b></font> etc where there's no natural ordering. Hence we need to create <b>one-hot encoded vectors</b> of these features, but we're achieving this using <b>pandas get_dummies</b> method and also we have to apply <b>drop_first=True</b> to avoid <b>multicollinearity</b>."
   ]
  },
  {
   "cell_type": "code",
   "execution_count": 21,
   "id": "e0f48d19",
   "metadata": {},
   "outputs": [
    {
     "data": {
      "text/html": [
       "<div>\n",
       "<style scoped>\n",
       "    .dataframe tbody tr th:only-of-type {\n",
       "        vertical-align: middle;\n",
       "    }\n",
       "\n",
       "    .dataframe tbody tr th {\n",
       "        vertical-align: top;\n",
       "    }\n",
       "\n",
       "    .dataframe thead th {\n",
       "        text-align: right;\n",
       "    }\n",
       "</style>\n",
       "<table border=\"1\" class=\"dataframe\">\n",
       "  <thead>\n",
       "    <tr style=\"text-align: right;\">\n",
       "      <th></th>\n",
       "      <th>MSSubClass</th>\n",
       "      <th>MSZoning</th>\n",
       "      <th>LotShape</th>\n",
       "      <th>LandContour</th>\n",
       "      <th>LotConfig</th>\n",
       "      <th>LandSlope</th>\n",
       "      <th>Neighborhood</th>\n",
       "      <th>Condition1</th>\n",
       "      <th>Condition2</th>\n",
       "      <th>BldgType</th>\n",
       "      <th>...</th>\n",
       "      <th>Exterior1st</th>\n",
       "      <th>Exterior2nd</th>\n",
       "      <th>MasVnrType</th>\n",
       "      <th>Foundation</th>\n",
       "      <th>Heating</th>\n",
       "      <th>Electrical</th>\n",
       "      <th>GarageType</th>\n",
       "      <th>MiscFeature</th>\n",
       "      <th>SaleType</th>\n",
       "      <th>SaleCondition</th>\n",
       "    </tr>\n",
       "  </thead>\n",
       "  <tbody>\n",
       "    <tr>\n",
       "      <th>0</th>\n",
       "      <td>60</td>\n",
       "      <td>RL</td>\n",
       "      <td>Reg</td>\n",
       "      <td>Lvl</td>\n",
       "      <td>Inside</td>\n",
       "      <td>Gtl</td>\n",
       "      <td>CollgCr</td>\n",
       "      <td>Norm</td>\n",
       "      <td>Norm</td>\n",
       "      <td>1Fam</td>\n",
       "      <td>...</td>\n",
       "      <td>VinylSd</td>\n",
       "      <td>VinylSd</td>\n",
       "      <td>BrkFace</td>\n",
       "      <td>PConc</td>\n",
       "      <td>GasA</td>\n",
       "      <td>SBrkr</td>\n",
       "      <td>Attchd</td>\n",
       "      <td>None</td>\n",
       "      <td>WD</td>\n",
       "      <td>Normal</td>\n",
       "    </tr>\n",
       "    <tr>\n",
       "      <th>1</th>\n",
       "      <td>20</td>\n",
       "      <td>RL</td>\n",
       "      <td>Reg</td>\n",
       "      <td>Lvl</td>\n",
       "      <td>FR2</td>\n",
       "      <td>Gtl</td>\n",
       "      <td>Veenker</td>\n",
       "      <td>Feedr</td>\n",
       "      <td>Norm</td>\n",
       "      <td>1Fam</td>\n",
       "      <td>...</td>\n",
       "      <td>MetalSd</td>\n",
       "      <td>MetalSd</td>\n",
       "      <td>None</td>\n",
       "      <td>CBlock</td>\n",
       "      <td>GasA</td>\n",
       "      <td>SBrkr</td>\n",
       "      <td>Attchd</td>\n",
       "      <td>None</td>\n",
       "      <td>WD</td>\n",
       "      <td>Normal</td>\n",
       "    </tr>\n",
       "    <tr>\n",
       "      <th>2</th>\n",
       "      <td>60</td>\n",
       "      <td>RL</td>\n",
       "      <td>IR1</td>\n",
       "      <td>Lvl</td>\n",
       "      <td>Inside</td>\n",
       "      <td>Gtl</td>\n",
       "      <td>CollgCr</td>\n",
       "      <td>Norm</td>\n",
       "      <td>Norm</td>\n",
       "      <td>1Fam</td>\n",
       "      <td>...</td>\n",
       "      <td>VinylSd</td>\n",
       "      <td>VinylSd</td>\n",
       "      <td>BrkFace</td>\n",
       "      <td>PConc</td>\n",
       "      <td>GasA</td>\n",
       "      <td>SBrkr</td>\n",
       "      <td>Attchd</td>\n",
       "      <td>None</td>\n",
       "      <td>WD</td>\n",
       "      <td>Normal</td>\n",
       "    </tr>\n",
       "    <tr>\n",
       "      <th>3</th>\n",
       "      <td>70</td>\n",
       "      <td>RL</td>\n",
       "      <td>IR1</td>\n",
       "      <td>Lvl</td>\n",
       "      <td>Corner</td>\n",
       "      <td>Gtl</td>\n",
       "      <td>Crawfor</td>\n",
       "      <td>Norm</td>\n",
       "      <td>Norm</td>\n",
       "      <td>1Fam</td>\n",
       "      <td>...</td>\n",
       "      <td>Wd Sdng</td>\n",
       "      <td>Wd Shng</td>\n",
       "      <td>None</td>\n",
       "      <td>BrkTil</td>\n",
       "      <td>GasA</td>\n",
       "      <td>SBrkr</td>\n",
       "      <td>Detchd</td>\n",
       "      <td>None</td>\n",
       "      <td>WD</td>\n",
       "      <td>Abnorml</td>\n",
       "    </tr>\n",
       "    <tr>\n",
       "      <th>4</th>\n",
       "      <td>60</td>\n",
       "      <td>RL</td>\n",
       "      <td>IR1</td>\n",
       "      <td>Lvl</td>\n",
       "      <td>FR2</td>\n",
       "      <td>Gtl</td>\n",
       "      <td>NoRidge</td>\n",
       "      <td>Norm</td>\n",
       "      <td>Norm</td>\n",
       "      <td>1Fam</td>\n",
       "      <td>...</td>\n",
       "      <td>VinylSd</td>\n",
       "      <td>VinylSd</td>\n",
       "      <td>BrkFace</td>\n",
       "      <td>PConc</td>\n",
       "      <td>GasA</td>\n",
       "      <td>SBrkr</td>\n",
       "      <td>Attchd</td>\n",
       "      <td>None</td>\n",
       "      <td>WD</td>\n",
       "      <td>Normal</td>\n",
       "    </tr>\n",
       "  </tbody>\n",
       "</table>\n",
       "<p>5 rows × 23 columns</p>\n",
       "</div>"
      ],
      "text/plain": [
       "  MSSubClass MSZoning LotShape LandContour LotConfig LandSlope Neighborhood  \\\n",
       "0         60       RL      Reg         Lvl    Inside       Gtl      CollgCr   \n",
       "1         20       RL      Reg         Lvl       FR2       Gtl      Veenker   \n",
       "2         60       RL      IR1         Lvl    Inside       Gtl      CollgCr   \n",
       "3         70       RL      IR1         Lvl    Corner       Gtl      Crawfor   \n",
       "4         60       RL      IR1         Lvl       FR2       Gtl      NoRidge   \n",
       "\n",
       "  Condition1 Condition2 BldgType  ... Exterior1st Exterior2nd MasVnrType  \\\n",
       "0       Norm       Norm     1Fam  ...     VinylSd     VinylSd    BrkFace   \n",
       "1      Feedr       Norm     1Fam  ...     MetalSd     MetalSd       None   \n",
       "2       Norm       Norm     1Fam  ...     VinylSd     VinylSd    BrkFace   \n",
       "3       Norm       Norm     1Fam  ...     Wd Sdng     Wd Shng       None   \n",
       "4       Norm       Norm     1Fam  ...     VinylSd     VinylSd    BrkFace   \n",
       "\n",
       "  Foundation Heating Electrical GarageType MiscFeature SaleType SaleCondition  \n",
       "0      PConc    GasA      SBrkr     Attchd        None       WD        Normal  \n",
       "1     CBlock    GasA      SBrkr     Attchd        None       WD        Normal  \n",
       "2      PConc    GasA      SBrkr     Attchd        None       WD        Normal  \n",
       "3     BrkTil    GasA      SBrkr     Detchd        None       WD       Abnorml  \n",
       "4      PConc    GasA      SBrkr     Attchd        None       WD        Normal  \n",
       "\n",
       "[5 rows x 23 columns]"
      ]
     },
     "execution_count": 21,
     "metadata": {},
     "output_type": "execute_result"
    }
   ],
   "source": [
    "# finding columns with object dtype\n",
    "object_cols=df.select_dtypes('object')\n",
    "object_cols.head()"
   ]
  },
  {
   "cell_type": "code",
   "execution_count": 22,
   "id": "73693abe",
   "metadata": {},
   "outputs": [
    {
     "data": {
      "text/html": [
       "<div>\n",
       "<style scoped>\n",
       "    .dataframe tbody tr th:only-of-type {\n",
       "        vertical-align: middle;\n",
       "    }\n",
       "\n",
       "    .dataframe tbody tr th {\n",
       "        vertical-align: top;\n",
       "    }\n",
       "\n",
       "    .dataframe thead th {\n",
       "        text-align: right;\n",
       "    }\n",
       "</style>\n",
       "<table border=\"1\" class=\"dataframe\">\n",
       "  <thead>\n",
       "    <tr style=\"text-align: right;\">\n",
       "      <th></th>\n",
       "      <th>MSSubClass_160</th>\n",
       "      <th>MSSubClass_180</th>\n",
       "      <th>MSSubClass_190</th>\n",
       "      <th>MSSubClass_20</th>\n",
       "      <th>MSSubClass_30</th>\n",
       "      <th>MSSubClass_40</th>\n",
       "      <th>MSSubClass_45</th>\n",
       "      <th>MSSubClass_50</th>\n",
       "      <th>MSSubClass_60</th>\n",
       "      <th>MSSubClass_70</th>\n",
       "      <th>...</th>\n",
       "      <th>SaleType_ConLI</th>\n",
       "      <th>SaleType_ConLw</th>\n",
       "      <th>SaleType_New</th>\n",
       "      <th>SaleType_Oth</th>\n",
       "      <th>SaleType_WD</th>\n",
       "      <th>SaleCondition_AdjLand</th>\n",
       "      <th>SaleCondition_Alloca</th>\n",
       "      <th>SaleCondition_Family</th>\n",
       "      <th>SaleCondition_Normal</th>\n",
       "      <th>SaleCondition_Partial</th>\n",
       "    </tr>\n",
       "  </thead>\n",
       "  <tbody>\n",
       "    <tr>\n",
       "      <th>0</th>\n",
       "      <td>0</td>\n",
       "      <td>0</td>\n",
       "      <td>0</td>\n",
       "      <td>0</td>\n",
       "      <td>0</td>\n",
       "      <td>0</td>\n",
       "      <td>0</td>\n",
       "      <td>0</td>\n",
       "      <td>1</td>\n",
       "      <td>0</td>\n",
       "      <td>...</td>\n",
       "      <td>0</td>\n",
       "      <td>0</td>\n",
       "      <td>0</td>\n",
       "      <td>0</td>\n",
       "      <td>1</td>\n",
       "      <td>0</td>\n",
       "      <td>0</td>\n",
       "      <td>0</td>\n",
       "      <td>1</td>\n",
       "      <td>0</td>\n",
       "    </tr>\n",
       "    <tr>\n",
       "      <th>1</th>\n",
       "      <td>0</td>\n",
       "      <td>0</td>\n",
       "      <td>0</td>\n",
       "      <td>1</td>\n",
       "      <td>0</td>\n",
       "      <td>0</td>\n",
       "      <td>0</td>\n",
       "      <td>0</td>\n",
       "      <td>0</td>\n",
       "      <td>0</td>\n",
       "      <td>...</td>\n",
       "      <td>0</td>\n",
       "      <td>0</td>\n",
       "      <td>0</td>\n",
       "      <td>0</td>\n",
       "      <td>1</td>\n",
       "      <td>0</td>\n",
       "      <td>0</td>\n",
       "      <td>0</td>\n",
       "      <td>1</td>\n",
       "      <td>0</td>\n",
       "    </tr>\n",
       "    <tr>\n",
       "      <th>2</th>\n",
       "      <td>0</td>\n",
       "      <td>0</td>\n",
       "      <td>0</td>\n",
       "      <td>0</td>\n",
       "      <td>0</td>\n",
       "      <td>0</td>\n",
       "      <td>0</td>\n",
       "      <td>0</td>\n",
       "      <td>1</td>\n",
       "      <td>0</td>\n",
       "      <td>...</td>\n",
       "      <td>0</td>\n",
       "      <td>0</td>\n",
       "      <td>0</td>\n",
       "      <td>0</td>\n",
       "      <td>1</td>\n",
       "      <td>0</td>\n",
       "      <td>0</td>\n",
       "      <td>0</td>\n",
       "      <td>1</td>\n",
       "      <td>0</td>\n",
       "    </tr>\n",
       "    <tr>\n",
       "      <th>3</th>\n",
       "      <td>0</td>\n",
       "      <td>0</td>\n",
       "      <td>0</td>\n",
       "      <td>0</td>\n",
       "      <td>0</td>\n",
       "      <td>0</td>\n",
       "      <td>0</td>\n",
       "      <td>0</td>\n",
       "      <td>0</td>\n",
       "      <td>1</td>\n",
       "      <td>...</td>\n",
       "      <td>0</td>\n",
       "      <td>0</td>\n",
       "      <td>0</td>\n",
       "      <td>0</td>\n",
       "      <td>1</td>\n",
       "      <td>0</td>\n",
       "      <td>0</td>\n",
       "      <td>0</td>\n",
       "      <td>0</td>\n",
       "      <td>0</td>\n",
       "    </tr>\n",
       "    <tr>\n",
       "      <th>4</th>\n",
       "      <td>0</td>\n",
       "      <td>0</td>\n",
       "      <td>0</td>\n",
       "      <td>0</td>\n",
       "      <td>0</td>\n",
       "      <td>0</td>\n",
       "      <td>0</td>\n",
       "      <td>0</td>\n",
       "      <td>1</td>\n",
       "      <td>0</td>\n",
       "      <td>...</td>\n",
       "      <td>0</td>\n",
       "      <td>0</td>\n",
       "      <td>0</td>\n",
       "      <td>0</td>\n",
       "      <td>1</td>\n",
       "      <td>0</td>\n",
       "      <td>0</td>\n",
       "      <td>0</td>\n",
       "      <td>1</td>\n",
       "      <td>0</td>\n",
       "    </tr>\n",
       "  </tbody>\n",
       "</table>\n",
       "<p>5 rows × 161 columns</p>\n",
       "</div>"
      ],
      "text/plain": [
       "   MSSubClass_160  MSSubClass_180  MSSubClass_190  MSSubClass_20  \\\n",
       "0               0               0               0              0   \n",
       "1               0               0               0              1   \n",
       "2               0               0               0              0   \n",
       "3               0               0               0              0   \n",
       "4               0               0               0              0   \n",
       "\n",
       "   MSSubClass_30  MSSubClass_40  MSSubClass_45  MSSubClass_50  MSSubClass_60  \\\n",
       "0              0              0              0              0              1   \n",
       "1              0              0              0              0              0   \n",
       "2              0              0              0              0              1   \n",
       "3              0              0              0              0              0   \n",
       "4              0              0              0              0              1   \n",
       "\n",
       "   MSSubClass_70  ...  SaleType_ConLI  SaleType_ConLw  SaleType_New  \\\n",
       "0              0  ...               0               0             0   \n",
       "1              0  ...               0               0             0   \n",
       "2              0  ...               0               0             0   \n",
       "3              1  ...               0               0             0   \n",
       "4              0  ...               0               0             0   \n",
       "\n",
       "   SaleType_Oth  SaleType_WD  SaleCondition_AdjLand  SaleCondition_Alloca  \\\n",
       "0             0            1                      0                     0   \n",
       "1             0            1                      0                     0   \n",
       "2             0            1                      0                     0   \n",
       "3             0            1                      0                     0   \n",
       "4             0            1                      0                     0   \n",
       "\n",
       "   SaleCondition_Family  SaleCondition_Normal  SaleCondition_Partial  \n",
       "0                     0                     1                      0  \n",
       "1                     0                     1                      0  \n",
       "2                     0                     1                      0  \n",
       "3                     0                     0                      0  \n",
       "4                     0                     1                      0  \n",
       "\n",
       "[5 rows x 161 columns]"
      ]
     },
     "execution_count": 22,
     "metadata": {},
     "output_type": "execute_result"
    }
   ],
   "source": [
    "# applying get_dummies on the above columns\n",
    "df_ohe=pd.get_dummies(object_cols, drop_first=True)\n",
    "df_ohe.head()"
   ]
  },
  {
   "cell_type": "code",
   "execution_count": 23,
   "id": "c4ce354e",
   "metadata": {},
   "outputs": [],
   "source": [
    "# lets drop all the above one-hot encoded features from the main dataframe\n",
    "df.drop(object_cols.columns, axis=1, inplace=True)"
   ]
  },
  {
   "cell_type": "code",
   "execution_count": 24,
   "id": "82d7a3b9",
   "metadata": {},
   "outputs": [
    {
     "data": {
      "text/html": [
       "<div>\n",
       "<style scoped>\n",
       "    .dataframe tbody tr th:only-of-type {\n",
       "        vertical-align: middle;\n",
       "    }\n",
       "\n",
       "    .dataframe tbody tr th {\n",
       "        vertical-align: top;\n",
       "    }\n",
       "\n",
       "    .dataframe thead th {\n",
       "        text-align: right;\n",
       "    }\n",
       "</style>\n",
       "<table border=\"1\" class=\"dataframe\">\n",
       "  <thead>\n",
       "    <tr style=\"text-align: right;\">\n",
       "      <th></th>\n",
       "      <th>LotArea</th>\n",
       "      <th>Street</th>\n",
       "      <th>Alley</th>\n",
       "      <th>Utilities</th>\n",
       "      <th>OverallQual</th>\n",
       "      <th>OverallCond</th>\n",
       "      <th>YearBuilt</th>\n",
       "      <th>YearRemodAdd</th>\n",
       "      <th>MasVnrArea</th>\n",
       "      <th>ExterQual</th>\n",
       "      <th>...</th>\n",
       "      <th>SaleType_ConLI</th>\n",
       "      <th>SaleType_ConLw</th>\n",
       "      <th>SaleType_New</th>\n",
       "      <th>SaleType_Oth</th>\n",
       "      <th>SaleType_WD</th>\n",
       "      <th>SaleCondition_AdjLand</th>\n",
       "      <th>SaleCondition_Alloca</th>\n",
       "      <th>SaleCondition_Family</th>\n",
       "      <th>SaleCondition_Normal</th>\n",
       "      <th>SaleCondition_Partial</th>\n",
       "    </tr>\n",
       "  </thead>\n",
       "  <tbody>\n",
       "    <tr>\n",
       "      <th>0</th>\n",
       "      <td>8450</td>\n",
       "      <td>2</td>\n",
       "      <td>0</td>\n",
       "      <td>4</td>\n",
       "      <td>7</td>\n",
       "      <td>5</td>\n",
       "      <td>2003</td>\n",
       "      <td>2003</td>\n",
       "      <td>196.0</td>\n",
       "      <td>4</td>\n",
       "      <td>...</td>\n",
       "      <td>0</td>\n",
       "      <td>0</td>\n",
       "      <td>0</td>\n",
       "      <td>0</td>\n",
       "      <td>1</td>\n",
       "      <td>0</td>\n",
       "      <td>0</td>\n",
       "      <td>0</td>\n",
       "      <td>1</td>\n",
       "      <td>0</td>\n",
       "    </tr>\n",
       "    <tr>\n",
       "      <th>1</th>\n",
       "      <td>9600</td>\n",
       "      <td>2</td>\n",
       "      <td>0</td>\n",
       "      <td>4</td>\n",
       "      <td>6</td>\n",
       "      <td>8</td>\n",
       "      <td>1976</td>\n",
       "      <td>1976</td>\n",
       "      <td>0.0</td>\n",
       "      <td>3</td>\n",
       "      <td>...</td>\n",
       "      <td>0</td>\n",
       "      <td>0</td>\n",
       "      <td>0</td>\n",
       "      <td>0</td>\n",
       "      <td>1</td>\n",
       "      <td>0</td>\n",
       "      <td>0</td>\n",
       "      <td>0</td>\n",
       "      <td>1</td>\n",
       "      <td>0</td>\n",
       "    </tr>\n",
       "    <tr>\n",
       "      <th>2</th>\n",
       "      <td>11250</td>\n",
       "      <td>2</td>\n",
       "      <td>0</td>\n",
       "      <td>4</td>\n",
       "      <td>7</td>\n",
       "      <td>5</td>\n",
       "      <td>2001</td>\n",
       "      <td>2002</td>\n",
       "      <td>162.0</td>\n",
       "      <td>4</td>\n",
       "      <td>...</td>\n",
       "      <td>0</td>\n",
       "      <td>0</td>\n",
       "      <td>0</td>\n",
       "      <td>0</td>\n",
       "      <td>1</td>\n",
       "      <td>0</td>\n",
       "      <td>0</td>\n",
       "      <td>0</td>\n",
       "      <td>1</td>\n",
       "      <td>0</td>\n",
       "    </tr>\n",
       "    <tr>\n",
       "      <th>3</th>\n",
       "      <td>9550</td>\n",
       "      <td>2</td>\n",
       "      <td>0</td>\n",
       "      <td>4</td>\n",
       "      <td>7</td>\n",
       "      <td>5</td>\n",
       "      <td>1915</td>\n",
       "      <td>1970</td>\n",
       "      <td>0.0</td>\n",
       "      <td>3</td>\n",
       "      <td>...</td>\n",
       "      <td>0</td>\n",
       "      <td>0</td>\n",
       "      <td>0</td>\n",
       "      <td>0</td>\n",
       "      <td>1</td>\n",
       "      <td>0</td>\n",
       "      <td>0</td>\n",
       "      <td>0</td>\n",
       "      <td>0</td>\n",
       "      <td>0</td>\n",
       "    </tr>\n",
       "    <tr>\n",
       "      <th>4</th>\n",
       "      <td>14260</td>\n",
       "      <td>2</td>\n",
       "      <td>0</td>\n",
       "      <td>4</td>\n",
       "      <td>8</td>\n",
       "      <td>5</td>\n",
       "      <td>2000</td>\n",
       "      <td>2000</td>\n",
       "      <td>350.0</td>\n",
       "      <td>4</td>\n",
       "      <td>...</td>\n",
       "      <td>0</td>\n",
       "      <td>0</td>\n",
       "      <td>0</td>\n",
       "      <td>0</td>\n",
       "      <td>1</td>\n",
       "      <td>0</td>\n",
       "      <td>0</td>\n",
       "      <td>0</td>\n",
       "      <td>1</td>\n",
       "      <td>0</td>\n",
       "    </tr>\n",
       "  </tbody>\n",
       "</table>\n",
       "<p>5 rows × 216 columns</p>\n",
       "</div>"
      ],
      "text/plain": [
       "   LotArea  Street  Alley  Utilities  OverallQual  OverallCond  YearBuilt  \\\n",
       "0     8450       2      0          4            7            5       2003   \n",
       "1     9600       2      0          4            6            8       1976   \n",
       "2    11250       2      0          4            7            5       2001   \n",
       "3     9550       2      0          4            7            5       1915   \n",
       "4    14260       2      0          4            8            5       2000   \n",
       "\n",
       "   YearRemodAdd  MasVnrArea  ExterQual  ...  SaleType_ConLI  SaleType_ConLw  \\\n",
       "0          2003       196.0          4  ...               0               0   \n",
       "1          1976         0.0          3  ...               0               0   \n",
       "2          2002       162.0          4  ...               0               0   \n",
       "3          1970         0.0          3  ...               0               0   \n",
       "4          2000       350.0          4  ...               0               0   \n",
       "\n",
       "   SaleType_New  SaleType_Oth  SaleType_WD  SaleCondition_AdjLand  \\\n",
       "0             0             0            1                      0   \n",
       "1             0             0            1                      0   \n",
       "2             0             0            1                      0   \n",
       "3             0             0            1                      0   \n",
       "4             0             0            1                      0   \n",
       "\n",
       "   SaleCondition_Alloca  SaleCondition_Family  SaleCondition_Normal  \\\n",
       "0                     0                     0                     1   \n",
       "1                     0                     0                     1   \n",
       "2                     0                     0                     1   \n",
       "3                     0                     0                     0   \n",
       "4                     0                     0                     1   \n",
       "\n",
       "   SaleCondition_Partial  \n",
       "0                      0  \n",
       "1                      0  \n",
       "2                      0  \n",
       "3                      0  \n",
       "4                      0  \n",
       "\n",
       "[5 rows x 216 columns]"
      ]
     },
     "execution_count": 24,
     "metadata": {},
     "output_type": "execute_result"
    }
   ],
   "source": [
    "# lets concatenate the main dataframe and ohe dataframe\n",
    "df=pd.concat([df, df_ohe], axis=1)\n",
    "df.head()"
   ]
  },
  {
   "cell_type": "markdown",
   "id": "64be3d9a",
   "metadata": {},
   "source": [
    "Here we are finding the correlation between some of the most important features which influences the property sale price."
   ]
  },
  {
   "cell_type": "code",
   "execution_count": 25,
   "id": "82d77b25",
   "metadata": {},
   "outputs": [
    {
     "data": {
      "image/png": "[encoded data removed]",
      "text/plain": [
       "<Figure size 1200x800 with 2 Axes>"
      ]
     },
     "metadata": {
      "needs_background": "light"
     },
     "output_type": "display_data"
    }
   ],
   "source": [
    "plt.figure(dpi=200)\n",
    "sns.heatmap(df[['LotArea', 'OverallQual', 'OverallCond', 'YearBuilt', 'SalePrice']].corr(), annot=True, cmap='viridis_r');"
   ]
  },
  {
   "cell_type": "markdown",
   "id": "272b3f40",
   "metadata": {},
   "source": [
    "Here we are finding the correlation between different neighborhoods and the property sale price."
   ]
  },
  {
   "cell_type": "code",
   "execution_count": 26,
   "id": "40050888",
   "metadata": {},
   "outputs": [
    {
     "data": {
      "image/png": "[encoded data removed]",
      "text/plain": [
       "<Figure size 400x1200 with 2 Axes>"
      ]
     },
     "metadata": {
      "needs_background": "light"
     },
     "output_type": "display_data"
    }
   ],
   "source": [
    "neigh=[]\n",
    "for col in df.columns:\n",
    "    if col[:2]=='Ne':\n",
    "        neigh.append(col)\n",
    "neigh.append('SalePrice')\n",
    "plt.figure(dpi=200, figsize=(2,6))\n",
    "myneigh=(df[neigh].corr())[['SalePrice']]\n",
    "sns.heatmap(myneigh, annot=True, cmap='viridis_r');"
   ]
  },
  {
   "cell_type": "markdown",
   "id": "ae2ecd95",
   "metadata": {},
   "source": [
    "Here we are finding the correlation between the PoolQC and the property sale price."
   ]
  },
  {
   "cell_type": "code",
   "execution_count": 27,
   "id": "c88391fa",
   "metadata": {},
   "outputs": [
    {
     "data": {
      "image/png": "[encoded data removed]",
      "text/plain": [
       "<Figure size 1800x1200 with 1 Axes>"
      ]
     },
     "metadata": {
      "needs_background": "light"
     },
     "output_type": "display_data"
    }
   ],
   "source": [
    "plt.figure(dpi=300)\n",
    "sns.barplot(x=df.PoolQC, y=df.SalePrice);"
   ]
  },
  {
   "cell_type": "markdown",
   "id": "00cd8b54",
   "metadata": {},
   "source": [
    "Yes, having very good quality pool more than doubles the valuation of the property"
   ]
  },
  {
   "cell_type": "markdown",
   "id": "56b5823a",
   "metadata": {},
   "source": [
    "Segregating <font color='navy'><b>predictor variables</b></font> and <font color='navy'><b>target variable</b></font>. We're subjecting the <font color='navy'><b>target variable</b></font> to <font color='navy'><b>log transformation</b></font>. Also we're doing <font color='navy'><b>train_test_split</b></font> in order to segregate a portion of data for final performance metrics."
   ]
  },
  {
   "cell_type": "code",
   "execution_count": 28,
   "id": "954eda7e",
   "metadata": {},
   "outputs": [],
   "source": [
    "from sklearn.model_selection import train_test_split"
   ]
  },
  {
   "cell_type": "code",
   "execution_count": 29,
   "id": "fbef4120",
   "metadata": {},
   "outputs": [],
   "source": [
    "X_full=df.drop('SalePrice',axis=1)\n",
    "y_full=np.log10(df.SalePrice)\n",
    "\n",
    "# holding out 10% of the dataset for the final evaluation purposes\n",
    "X, X_hold, y, y_hold=train_test_split(X_full, y_full, test_size=0.1, random_state=1106)"
   ]
  },
  {
   "cell_type": "markdown",
   "id": "4e8af536",
   "metadata": {},
   "source": [
    "# <font color='navy'><u>Setting Up Pipelines</u></font>\n",
    "Here we are going to import, instantiate and setup the scaling object, the learning algorithms and the pipeline object to create two separate pipelines, one for each learning algorithm. "
   ]
  },
  {
   "cell_type": "code",
   "execution_count": 30,
   "id": "1720b974",
   "metadata": {},
   "outputs": [],
   "source": [
    "from sklearn.preprocessing import StandardScaler\n",
    "from sklearn.linear_model import Ridge, Lasso\n",
    "from sklearn.pipeline import Pipeline"
   ]
  },
  {
   "cell_type": "code",
   "execution_count": 31,
   "id": "63c3d99f",
   "metadata": {},
   "outputs": [],
   "source": [
    "# instantiating the StandardScaler\n",
    "scale=StandardScaler()"
   ]
  },
  {
   "cell_type": "code",
   "execution_count": 32,
   "id": "13527c9a",
   "metadata": {},
   "outputs": [],
   "source": [
    "# instantiating the Ridge object\n",
    "l2_norm=Ridge()"
   ]
  },
  {
   "cell_type": "code",
   "execution_count": 33,
   "id": "eab88417",
   "metadata": {},
   "outputs": [],
   "source": [
    "# instantiating the Lasso object\n",
    "l1_norm=Lasso()"
   ]
  },
  {
   "cell_type": "code",
   "execution_count": 34,
   "id": "a18899c7",
   "metadata": {},
   "outputs": [],
   "source": [
    "# setting up sequence of operations for two pipelines\n",
    "operation1=[('scale',scale),('l2_norm',l2_norm)]\n",
    "operation2=[('scale',scale),('l1_norm',l1_norm)]"
   ]
  },
  {
   "cell_type": "code",
   "execution_count": 35,
   "id": "56981b47",
   "metadata": {},
   "outputs": [],
   "source": [
    "# creating two pipelines\n",
    "pipe1=Pipeline(steps=operation1)\n",
    "pipe2=Pipeline(steps=operation2)"
   ]
  },
  {
   "cell_type": "markdown",
   "id": "f30c4888",
   "metadata": {},
   "source": [
    "# <font color='navy'><u>Model Building</u></font>\n",
    "Finding the optimal strength of penalty (λ) in the case of both Ridge and Lasso is key to building robust model. Hence we are going to use GridSearchCV object to perform this hyperparameter tuning."
   ]
  },
  {
   "cell_type": "code",
   "execution_count": 36,
   "id": "fa6fcc0f",
   "metadata": {},
   "outputs": [],
   "source": [
    "from sklearn.model_selection import GridSearchCV"
   ]
  },
  {
   "cell_type": "markdown",
   "id": "1d5be11d",
   "metadata": {},
   "source": [
    "# <font color='darkgreen'>Building Ridge Model: ridge</font>\n",
    "As mentioned before, GridSearchCV will try different models and will select the best one. That best model is what we're going to choose as our <font color='darkgreen'><b>ridge</b></font> model."
   ]
  },
  {
   "cell_type": "code",
   "execution_count": 37,
   "id": "f005be96",
   "metadata": {},
   "outputs": [],
   "source": [
    "'''Note: I'm searching for alpha in this extremely narrowspace. Because I've already run this code many times and wanted to \n",
    "fine tune my search for the best value. I also tried alpha=0 to rule out the possibility of plain OLS\n",
    "'''\n",
    "param_ridge={'l2_norm__alpha':np.logspace(2.65,2.7,100)}"
   ]
  },
  {
   "cell_type": "code",
   "execution_count": 38,
   "id": "164fce85",
   "metadata": {},
   "outputs": [],
   "source": [
    "grid_ridge=GridSearchCV(estimator=pipe1, param_grid=param_ridge, cv=5, scoring='r2', return_train_score=True)"
   ]
  },
  {
   "cell_type": "code",
   "execution_count": 39,
   "id": "16f0691d",
   "metadata": {},
   "outputs": [
    {
     "data": {
      "text/plain": [
       "GridSearchCV(cv=5,\n",
       "             estimator=Pipeline(steps=[('scale', StandardScaler()),\n",
       "                                       ('l2_norm', Ridge())]),\n",
       "             param_grid={'l2_norm__alpha': array([446.68359215, 447.20335238, 447.72371741, 448.24468793,\n",
       "       448.76626465, 449.28844828, 449.81123952, 450.33463907,\n",
       "       450.85864766, 451.38326598, 451.90849474, 452.43433466,\n",
       "       452.96078645, 453.48785081, 454.01552847, 454.54382013,\n",
       "       455.07272651,...\n",
       "       487.95956827, 488.52735715, 489.09580672, 489.66491773,\n",
       "       490.23469095, 490.80512717, 491.37622714, 491.94799164,\n",
       "       492.52042145, 493.09351733, 493.66728007, 494.24171044,\n",
       "       494.81680922, 495.39257717, 495.96901509, 496.54612376,\n",
       "       497.12390394, 497.70235643, 498.28148201, 498.86128145,\n",
       "       499.44175555, 500.02290509, 500.60473085, 501.18723363])},\n",
       "             return_train_score=True, scoring='r2')"
      ]
     },
     "execution_count": 39,
     "metadata": {},
     "output_type": "execute_result"
    }
   ],
   "source": [
    "grid_ridge.fit(X,y)"
   ]
  },
  {
   "cell_type": "code",
   "execution_count": 40,
   "id": "6ac6871b",
   "metadata": {},
   "outputs": [
    {
     "data": {
      "text/plain": [
       "Pipeline(steps=[('scale', StandardScaler()),\n",
       "                ('l2_norm', Ridge(alpha=477.8514732339196))])"
      ]
     },
     "execution_count": 40,
     "metadata": {},
     "output_type": "execute_result"
    }
   ],
   "source": [
    "grid_ridge.best_estimator_"
   ]
  },
  {
   "cell_type": "code",
   "execution_count": 41,
   "id": "e43196a6",
   "metadata": {
    "scrolled": false
   },
   "outputs": [
    {
     "data": {
      "text/html": [
       "<div>\n",
       "<style scoped>\n",
       "    .dataframe tbody tr th:only-of-type {\n",
       "        vertical-align: middle;\n",
       "    }\n",
       "\n",
       "    .dataframe tbody tr th {\n",
       "        vertical-align: top;\n",
       "    }\n",
       "\n",
       "    .dataframe thead th {\n",
       "        text-align: right;\n",
       "    }\n",
       "</style>\n",
       "<table border=\"1\" class=\"dataframe\">\n",
       "  <thead>\n",
       "    <tr style=\"text-align: right;\">\n",
       "      <th></th>\n",
       "      <th>mean_fit_time</th>\n",
       "      <th>std_fit_time</th>\n",
       "      <th>mean_score_time</th>\n",
       "      <th>std_score_time</th>\n",
       "      <th>param_l2_norm__alpha</th>\n",
       "      <th>params</th>\n",
       "      <th>split0_test_score</th>\n",
       "      <th>split1_test_score</th>\n",
       "      <th>split2_test_score</th>\n",
       "      <th>split3_test_score</th>\n",
       "      <th>...</th>\n",
       "      <th>mean_test_score</th>\n",
       "      <th>std_test_score</th>\n",
       "      <th>rank_test_score</th>\n",
       "      <th>split0_train_score</th>\n",
       "      <th>split1_train_score</th>\n",
       "      <th>split2_train_score</th>\n",
       "      <th>split3_train_score</th>\n",
       "      <th>split4_train_score</th>\n",
       "      <th>mean_train_score</th>\n",
       "      <th>std_train_score</th>\n",
       "    </tr>\n",
       "  </thead>\n",
       "  <tbody>\n",
       "    <tr>\n",
       "      <th>0</th>\n",
       "      <td>0.018076</td>\n",
       "      <td>0.009521</td>\n",
       "      <td>0.002801</td>\n",
       "      <td>4.001618e-04</td>\n",
       "      <td>446.683592</td>\n",
       "      <td>{'l2_norm__alpha': 446.683592150963}</td>\n",
       "      <td>0.848970</td>\n",
       "      <td>0.905281</td>\n",
       "      <td>0.885784</td>\n",
       "      <td>0.918042</td>\n",
       "      <td>...</td>\n",
       "      <td>0.869619</td>\n",
       "      <td>0.046131</td>\n",
       "      <td>100</td>\n",
       "      <td>0.919506</td>\n",
       "      <td>0.907248</td>\n",
       "      <td>0.913138</td>\n",
       "      <td>0.906599</td>\n",
       "      <td>0.928203</td>\n",
       "      <td>0.914939</td>\n",
       "      <td>0.008108</td>\n",
       "    </tr>\n",
       "    <tr>\n",
       "      <th>1</th>\n",
       "      <td>0.011203</td>\n",
       "      <td>0.000749</td>\n",
       "      <td>0.003001</td>\n",
       "      <td>9.536743e-08</td>\n",
       "      <td>447.203352</td>\n",
       "      <td>{'l2_norm__alpha': 447.20335238362566}</td>\n",
       "      <td>0.848971</td>\n",
       "      <td>0.905270</td>\n",
       "      <td>0.885788</td>\n",
       "      <td>0.918042</td>\n",
       "      <td>...</td>\n",
       "      <td>0.869620</td>\n",
       "      <td>0.046126</td>\n",
       "      <td>99</td>\n",
       "      <td>0.919488</td>\n",
       "      <td>0.907231</td>\n",
       "      <td>0.913120</td>\n",
       "      <td>0.906580</td>\n",
       "      <td>0.928188</td>\n",
       "      <td>0.914922</td>\n",
       "      <td>0.008109</td>\n",
       "    </tr>\n",
       "    <tr>\n",
       "      <th>2</th>\n",
       "      <td>0.011803</td>\n",
       "      <td>0.000748</td>\n",
       "      <td>0.003201</td>\n",
       "      <td>3.999472e-04</td>\n",
       "      <td>447.723717</td>\n",
       "      <td>{'l2_norm__alpha': 447.72371740837025}</td>\n",
       "      <td>0.848973</td>\n",
       "      <td>0.905260</td>\n",
       "      <td>0.885792</td>\n",
       "      <td>0.918043</td>\n",
       "      <td>...</td>\n",
       "      <td>0.869621</td>\n",
       "      <td>0.046122</td>\n",
       "      <td>98</td>\n",
       "      <td>0.919470</td>\n",
       "      <td>0.907214</td>\n",
       "      <td>0.913102</td>\n",
       "      <td>0.906561</td>\n",
       "      <td>0.928173</td>\n",
       "      <td>0.914904</td>\n",
       "      <td>0.008111</td>\n",
       "    </tr>\n",
       "    <tr>\n",
       "      <th>3</th>\n",
       "      <td>0.012003</td>\n",
       "      <td>0.000894</td>\n",
       "      <td>0.002801</td>\n",
       "      <td>4.000188e-04</td>\n",
       "      <td>448.244688</td>\n",
       "      <td>{'l2_norm__alpha': 448.24468792893083}</td>\n",
       "      <td>0.848975</td>\n",
       "      <td>0.905249</td>\n",
       "      <td>0.885796</td>\n",
       "      <td>0.918043</td>\n",
       "      <td>...</td>\n",
       "      <td>0.869622</td>\n",
       "      <td>0.046117</td>\n",
       "      <td>97</td>\n",
       "      <td>0.919452</td>\n",
       "      <td>0.907197</td>\n",
       "      <td>0.913084</td>\n",
       "      <td>0.906542</td>\n",
       "      <td>0.928159</td>\n",
       "      <td>0.914887</td>\n",
       "      <td>0.008112</td>\n",
       "    </tr>\n",
       "    <tr>\n",
       "      <th>4</th>\n",
       "      <td>0.011203</td>\n",
       "      <td>0.000749</td>\n",
       "      <td>0.002800</td>\n",
       "      <td>4.000665e-04</td>\n",
       "      <td>448.766265</td>\n",
       "      <td>{'l2_norm__alpha': 448.76626464986174}</td>\n",
       "      <td>0.848977</td>\n",
       "      <td>0.905238</td>\n",
       "      <td>0.885801</td>\n",
       "      <td>0.918044</td>\n",
       "      <td>...</td>\n",
       "      <td>0.869623</td>\n",
       "      <td>0.046113</td>\n",
       "      <td>96</td>\n",
       "      <td>0.919435</td>\n",
       "      <td>0.907180</td>\n",
       "      <td>0.913065</td>\n",
       "      <td>0.906523</td>\n",
       "      <td>0.928144</td>\n",
       "      <td>0.914869</td>\n",
       "      <td>0.008113</td>\n",
       "    </tr>\n",
       "  </tbody>\n",
       "</table>\n",
       "<p>5 rows × 21 columns</p>\n",
       "</div>"
      ],
      "text/plain": [
       "   mean_fit_time  std_fit_time  mean_score_time  std_score_time  \\\n",
       "0       0.018076      0.009521         0.002801    4.001618e-04   \n",
       "1       0.011203      0.000749         0.003001    9.536743e-08   \n",
       "2       0.011803      0.000748         0.003201    3.999472e-04   \n",
       "3       0.012003      0.000894         0.002801    4.000188e-04   \n",
       "4       0.011203      0.000749         0.002800    4.000665e-04   \n",
       "\n",
       "  param_l2_norm__alpha                                  params  \\\n",
       "0           446.683592    {'l2_norm__alpha': 446.683592150963}   \n",
       "1           447.203352  {'l2_norm__alpha': 447.20335238362566}   \n",
       "2           447.723717  {'l2_norm__alpha': 447.72371740837025}   \n",
       "3           448.244688  {'l2_norm__alpha': 448.24468792893083}   \n",
       "4           448.766265  {'l2_norm__alpha': 448.76626464986174}   \n",
       "\n",
       "   split0_test_score  split1_test_score  split2_test_score  split3_test_score  \\\n",
       "0           0.848970           0.905281           0.885784           0.918042   \n",
       "1           0.848971           0.905270           0.885788           0.918042   \n",
       "2           0.848973           0.905260           0.885792           0.918043   \n",
       "3           0.848975           0.905249           0.885796           0.918043   \n",
       "4           0.848977           0.905238           0.885801           0.918044   \n",
       "\n",
       "   ...  mean_test_score  std_test_score  rank_test_score  split0_train_score  \\\n",
       "0  ...         0.869619        0.046131              100            0.919506   \n",
       "1  ...         0.869620        0.046126               99            0.919488   \n",
       "2  ...         0.869621        0.046122               98            0.919470   \n",
       "3  ...         0.869622        0.046117               97            0.919452   \n",
       "4  ...         0.869623        0.046113               96            0.919435   \n",
       "\n",
       "   split1_train_score  split2_train_score  split3_train_score  \\\n",
       "0            0.907248            0.913138            0.906599   \n",
       "1            0.907231            0.913120            0.906580   \n",
       "2            0.907214            0.913102            0.906561   \n",
       "3            0.907197            0.913084            0.906542   \n",
       "4            0.907180            0.913065            0.906523   \n",
       "\n",
       "   split4_train_score  mean_train_score  std_train_score  \n",
       "0            0.928203          0.914939         0.008108  \n",
       "1            0.928188          0.914922         0.008109  \n",
       "2            0.928173          0.914904         0.008111  \n",
       "3            0.928159          0.914887         0.008112  \n",
       "4            0.928144          0.914869         0.008113  \n",
       "\n",
       "[5 rows x 21 columns]"
      ]
     },
     "execution_count": 41,
     "metadata": {},
     "output_type": "execute_result"
    }
   ],
   "source": [
    "grid_ridge_results=pd.DataFrame(grid_ridge.cv_results_)\n",
    "grid_ridge_results.head()"
   ]
  },
  {
   "cell_type": "code",
   "execution_count": 42,
   "id": "77682348",
   "metadata": {},
   "outputs": [
    {
     "data": {
      "text/plain": [
       "0.8696441893427125"
      ]
     },
     "execution_count": 42,
     "metadata": {},
     "output_type": "execute_result"
    }
   ],
   "source": [
    "grid_ridge.best_score_"
   ]
  },
  {
   "cell_type": "markdown",
   "id": "d73f294b",
   "metadata": {},
   "source": [
    "The <b>r_squared</b> of the best ridge estimator is <b>87%</b>. Though we can use the above <b>grid_ridge</b> itself as the final Ridge model directly, we're creating a new Ridge object to conveniently use it for <b>RFE</b> and <b>residual analysis</b>."
   ]
  },
  {
   "cell_type": "code",
   "execution_count": 43,
   "id": "d6efe001",
   "metadata": {},
   "outputs": [
    {
     "data": {
      "text/plain": [
       "477.8514732339196"
      ]
     },
     "execution_count": 43,
     "metadata": {},
     "output_type": "execute_result"
    }
   ],
   "source": [
    "grid_ridge.best_estimator_[1].alpha"
   ]
  },
  {
   "cell_type": "markdown",
   "id": "e58d24c6",
   "metadata": {},
   "source": [
    "<font color='darkgreen'><b> The optimal value of λ for Ridge regression is 477.85</b></font>"
   ]
  },
  {
   "cell_type": "code",
   "execution_count": 44,
   "id": "d89b5fe1",
   "metadata": {},
   "outputs": [],
   "source": [
    "ridge=Ridge(grid_ridge.best_estimator_[1].alpha)"
   ]
  },
  {
   "cell_type": "code",
   "execution_count": 45,
   "id": "8e7fcffd",
   "metadata": {},
   "outputs": [],
   "source": [
    "from sklearn.feature_selection import RFE"
   ]
  },
  {
   "cell_type": "markdown",
   "id": "6ba6f6b1",
   "metadata": {},
   "source": [
    "We're creating a temporary ridge based RFE with number of features as 1 to obtain a list of features and with their respective ranking"
   ]
  },
  {
   "cell_type": "code",
   "execution_count": 46,
   "id": "616409e1",
   "metadata": {},
   "outputs": [],
   "source": [
    "tmp_rfe_ridge1=RFE(ridge, n_features_to_select=1)"
   ]
  },
  {
   "cell_type": "markdown",
   "id": "a23eba9c",
   "metadata": {},
   "source": [
    "We have built the above Ridge model by using GridSearchCV in which we passed in a pipeline which automatically standardized the dataframe. But in order to do further analysis when we fit the Ridge model on the dataset, we'll have to manually standardize it. Hence the following transformation."
   ]
  },
  {
   "cell_type": "code",
   "execution_count": 47,
   "id": "778d5c3b",
   "metadata": {},
   "outputs": [],
   "source": [
    "std=StandardScaler()\n",
    "\n",
    "# fit_transforming the train set\n",
    "# transforming the test set\n",
    "\n",
    "X_std=std.fit_transform(X)\n",
    "X_hold_std=std.transform(X_hold)\n",
    "\n",
    "y_std=std.fit_transform(y.values.reshape(-1,1))\n",
    "y_hold_std=std.transform(y_hold.values.reshape(-1,1))"
   ]
  },
  {
   "cell_type": "code",
   "execution_count": 48,
   "id": "8365c518",
   "metadata": {},
   "outputs": [
    {
     "data": {
      "text/plain": [
       "RFE(estimator=Ridge(alpha=477.8514732339196), n_features_to_select=1)"
      ]
     },
     "execution_count": 48,
     "metadata": {},
     "output_type": "execute_result"
    }
   ],
   "source": [
    "tmp_rfe_ridge1.fit(X_std,y_std)"
   ]
  },
  {
   "cell_type": "code",
   "execution_count": 49,
   "id": "fa835278",
   "metadata": {},
   "outputs": [],
   "source": [
    "# checking the features & their RFE rank\n",
    "l1=list(zip(X.columns,tmp_rfe_ridge1.ranking_))\n",
    "l1.sort(key=lambda x:x[1])\n",
    "l1=pd.DataFrame(l1)\n",
    "l1.columns=['features_alpha','ranking_alpha']"
   ]
  },
  {
   "cell_type": "code",
   "execution_count": 50,
   "id": "5258e2fb",
   "metadata": {},
   "outputs": [],
   "source": [
    "ridge_2alpha=Ridge(2*grid_ridge.best_estimator_[1].alpha)"
   ]
  },
  {
   "cell_type": "code",
   "execution_count": 51,
   "id": "d0332b21",
   "metadata": {},
   "outputs": [],
   "source": [
    "tmp_rfe_ridge2=RFE(ridge_2alpha, n_features_to_select=1)"
   ]
  },
  {
   "cell_type": "code",
   "execution_count": 52,
   "id": "db0c51d4",
   "metadata": {},
   "outputs": [
    {
     "data": {
      "text/plain": [
       "RFE(estimator=Ridge(alpha=955.7029464678392), n_features_to_select=1)"
      ]
     },
     "execution_count": 52,
     "metadata": {},
     "output_type": "execute_result"
    }
   ],
   "source": [
    "tmp_rfe_ridge2.fit(X_std,y_std)"
   ]
  },
  {
   "cell_type": "code",
   "execution_count": 53,
   "id": "b961e6cb",
   "metadata": {},
   "outputs": [],
   "source": [
    "# checking the features & their RFE rank\n",
    "l2=list(zip(X.columns,tmp_rfe_ridge2.ranking_))\n",
    "l2.sort(key=lambda x:x[1])\n",
    "l2=pd.DataFrame(l2)\n",
    "l2.columns=['features_2alpha','ranking_2alpha']"
   ]
  },
  {
   "cell_type": "markdown",
   "id": "f870299d",
   "metadata": {},
   "source": [
    "<font color='red'><b>Here we are comparing the features and their respective RFE ranking with the optimal value of λ and its double the value 2λ. Note λ=α.</b></font>"
   ]
  },
  {
   "cell_type": "code",
   "execution_count": 54,
   "id": "f15caa39",
   "metadata": {},
   "outputs": [
    {
     "data": {
      "text/html": [
       "<div>\n",
       "<style scoped>\n",
       "    .dataframe tbody tr th:only-of-type {\n",
       "        vertical-align: middle;\n",
       "    }\n",
       "\n",
       "    .dataframe tbody tr th {\n",
       "        vertical-align: top;\n",
       "    }\n",
       "\n",
       "    .dataframe thead th {\n",
       "        text-align: right;\n",
       "    }\n",
       "</style>\n",
       "<table border=\"1\" class=\"dataframe\">\n",
       "  <thead>\n",
       "    <tr style=\"text-align: right;\">\n",
       "      <th></th>\n",
       "      <th>features_alpha</th>\n",
       "      <th>ranking_alpha</th>\n",
       "      <th>features_2alpha</th>\n",
       "      <th>ranking_2alpha</th>\n",
       "    </tr>\n",
       "  </thead>\n",
       "  <tbody>\n",
       "    <tr>\n",
       "      <th>0</th>\n",
       "      <td>OverallQual</td>\n",
       "      <td>1</td>\n",
       "      <td>OverallQual</td>\n",
       "      <td>1</td>\n",
       "    </tr>\n",
       "    <tr>\n",
       "      <th>1</th>\n",
       "      <td>GrLivArea</td>\n",
       "      <td>2</td>\n",
       "      <td>GrLivArea</td>\n",
       "      <td>2</td>\n",
       "    </tr>\n",
       "    <tr>\n",
       "      <th>2</th>\n",
       "      <td>GarageCars</td>\n",
       "      <td>3</td>\n",
       "      <td>GarageCars</td>\n",
       "      <td>3</td>\n",
       "    </tr>\n",
       "    <tr>\n",
       "      <th>3</th>\n",
       "      <td>KitchenQual</td>\n",
       "      <td>4</td>\n",
       "      <td>KitchenQual</td>\n",
       "      <td>4</td>\n",
       "    </tr>\n",
       "    <tr>\n",
       "      <th>4</th>\n",
       "      <td>BsmtQual</td>\n",
       "      <td>5</td>\n",
       "      <td>BsmtQual</td>\n",
       "      <td>5</td>\n",
       "    </tr>\n",
       "    <tr>\n",
       "      <th>5</th>\n",
       "      <td>1stFlrSF</td>\n",
       "      <td>6</td>\n",
       "      <td>1stFlrSF</td>\n",
       "      <td>6</td>\n",
       "    </tr>\n",
       "    <tr>\n",
       "      <th>6</th>\n",
       "      <td>YearBuilt</td>\n",
       "      <td>7</td>\n",
       "      <td>YearBuilt</td>\n",
       "      <td>7</td>\n",
       "    </tr>\n",
       "    <tr>\n",
       "      <th>7</th>\n",
       "      <td>FireplaceQu</td>\n",
       "      <td>8</td>\n",
       "      <td>Fireplaces</td>\n",
       "      <td>8</td>\n",
       "    </tr>\n",
       "    <tr>\n",
       "      <th>8</th>\n",
       "      <td>OverallCond</td>\n",
       "      <td>9</td>\n",
       "      <td>ExterQual</td>\n",
       "      <td>9</td>\n",
       "    </tr>\n",
       "    <tr>\n",
       "      <th>9</th>\n",
       "      <td>MSZoning_RL</td>\n",
       "      <td>10</td>\n",
       "      <td>TotRmsAbvGrd</td>\n",
       "      <td>10</td>\n",
       "    </tr>\n",
       "  </tbody>\n",
       "</table>\n",
       "</div>"
      ],
      "text/plain": [
       "  features_alpha  ranking_alpha features_2alpha  ranking_2alpha\n",
       "0    OverallQual              1     OverallQual               1\n",
       "1      GrLivArea              2       GrLivArea               2\n",
       "2     GarageCars              3      GarageCars               3\n",
       "3    KitchenQual              4     KitchenQual               4\n",
       "4       BsmtQual              5        BsmtQual               5\n",
       "5       1stFlrSF              6        1stFlrSF               6\n",
       "6      YearBuilt              7       YearBuilt               7\n",
       "7    FireplaceQu              8      Fireplaces               8\n",
       "8    OverallCond              9       ExterQual               9\n",
       "9    MSZoning_RL             10    TotRmsAbvGrd              10"
      ]
     },
     "execution_count": 54,
     "metadata": {},
     "output_type": "execute_result"
    }
   ],
   "source": [
    "compare_ridge=pd.concat([l1,l2],axis=1)\n",
    "compare_ridge.head(10)"
   ]
  },
  {
   "cell_type": "markdown",
   "id": "d00a7fb9",
   "metadata": {},
   "source": [
    "<font color='darkgreen'><b>Here the top 7 important features are exactly same for both the versions of Ridge, though the ranking of other features have changed slightly.</b></font>\n",
    "\n",
    "Our current Ridge model using the optimal value of <b>λ=477.85</b> is good, but it is also quite complex as it involves 215 predictor variables. Though we may be interested in performing feature elimination using RFE, we have to be aware that eliminating the features will result in decreased predictive ability and our predictive r2_score is 87% which is not super high. Hence we choose to use all the features.\n",
    "\n",
    "# <font color='orange'>Residual Analysis (ridge)</font>"
   ]
  },
  {
   "cell_type": "code",
   "execution_count": 55,
   "id": "bd9bdf41",
   "metadata": {},
   "outputs": [
    {
     "data": {
      "text/plain": [
       "Ridge(alpha=477.8514732339196)"
      ]
     },
     "execution_count": 55,
     "metadata": {},
     "output_type": "execute_result"
    }
   ],
   "source": [
    "# fitting the data on the ridge regression object\n",
    "ridge.fit(X_std,y_std)"
   ]
  },
  {
   "cell_type": "code",
   "execution_count": 56,
   "id": "75e2c02c",
   "metadata": {},
   "outputs": [
    {
     "data": {
      "text/plain": [
       "array([[-0.14376317],\n",
       "       [-0.80330325],\n",
       "       [-0.45551229],\n",
       "       ...,\n",
       "       [ 0.04120945],\n",
       "       [-0.21650447],\n",
       "       [-0.77278381]])"
      ]
     },
     "execution_count": 56,
     "metadata": {},
     "output_type": "execute_result"
    }
   ],
   "source": [
    "# making predictions off of the data \n",
    "y_pred=ridge.predict(X_std)\n",
    "y_pred"
   ]
  },
  {
   "cell_type": "code",
   "execution_count": 57,
   "id": "2608a5dc",
   "metadata": {},
   "outputs": [
    {
     "data": {
      "text/plain": [
       "array([[ 0.06775451],\n",
       "       [ 0.19809113],\n",
       "       [ 0.23456409],\n",
       "       ...,\n",
       "       [ 0.03461353],\n",
       "       [-0.13194022],\n",
       "       [-0.00213176]])"
      ]
     },
     "execution_count": 57,
     "metadata": {},
     "output_type": "execute_result"
    }
   ],
   "source": [
    "# defining residuals\n",
    "res=y_std-y_pred\n",
    "res"
   ]
  },
  {
   "cell_type": "code",
   "execution_count": 58,
   "id": "4403d9fb",
   "metadata": {},
   "outputs": [
    {
     "data": {
      "image/png": "[encoded data removed]",
      "text/plain": [
       "<Figure size 1200x800 with 1 Axes>"
      ]
     },
     "metadata": {
      "needs_background": "light"
     },
     "output_type": "display_data"
    }
   ],
   "source": [
    "# plotting kdeplot for the residuals\n",
    "plt.figure(dpi=200)\n",
    "plt.title('Normality of Residuals')\n",
    "sns.kdeplot(res.reshape(1,-1)[0], shade=True, color='Orange')\n",
    "plt.xlabel('res');"
   ]
  },
  {
   "cell_type": "markdown",
   "id": "df381c48",
   "metadata": {},
   "source": [
    "From the above plot we can see that the residuals are fairly normal and centered around 0 which is one of the assumptions of linear regression."
   ]
  },
  {
   "cell_type": "code",
   "execution_count": 59,
   "id": "629ab79f",
   "metadata": {},
   "outputs": [
    {
     "data": {
      "image/png": "[encoded data removed]",
      "text/plain": [
       "<Figure size 1200x800 with 1 Axes>"
      ]
     },
     "metadata": {
      "needs_background": "light"
     },
     "output_type": "display_data"
    }
   ],
   "source": [
    "# plotting the residuals against the predicted values\n",
    "plt.figure(dpi=200)\n",
    "plt.title('Homoscedasticity & Independence')\n",
    "sns.scatterplot(x=y_pred.reshape(1,-1)[0], y=res.reshape(1,-1)[0], color='Orange')\n",
    "plt.ylabel('res')\n",
    "plt.xlabel('y_pred')\n",
    "sns.lineplot(x=y_pred.reshape(1,-1)[0], y=0, color='navy', ls='--');"
   ]
  },
  {
   "cell_type": "markdown",
   "id": "c66e0f58",
   "metadata": {},
   "source": [
    "Except for handful of points, residuals are having uniform variance (homoscedasticity) and residuals are independent. Hence all the 3 assumptions of linear regression about the residuals are satisfied."
   ]
  },
  {
   "cell_type": "markdown",
   "id": "667a55e6",
   "metadata": {},
   "source": [
    "<b><font color='navy'>Evaluating the performance of ridge model</font></b>"
   ]
  },
  {
   "cell_type": "code",
   "execution_count": 60,
   "id": "352cf1d4",
   "metadata": {},
   "outputs": [],
   "source": [
    "from sklearn.metrics import mean_absolute_error, r2_score"
   ]
  },
  {
   "cell_type": "code",
   "execution_count": 61,
   "id": "fb9b3503",
   "metadata": {},
   "outputs": [],
   "source": [
    "y_hold_pred=ridge.predict(X_hold_std)"
   ]
  },
  {
   "cell_type": "code",
   "execution_count": 62,
   "id": "3fd4be32",
   "metadata": {},
   "outputs": [
    {
     "data": {
      "text/plain": [
       "0.8817462833331254"
      ]
     },
     "execution_count": 62,
     "metadata": {},
     "output_type": "execute_result"
    }
   ],
   "source": [
    "r2_ridge_hold=r2_score(y_hold_std, y_hold_pred)\n",
    "r2_ridge_hold"
   ]
  },
  {
   "cell_type": "code",
   "execution_count": 63,
   "id": "cc878cf2",
   "metadata": {},
   "outputs": [
    {
     "data": {
      "text/plain": [
       "17471.045833093154"
      ]
     },
     "execution_count": 63,
     "metadata": {},
     "output_type": "execute_result"
    }
   ],
   "source": [
    "# finding MAE in the original scale\n",
    "# we're undoing log10 by 10**(num)\n",
    "MAE=mean_absolute_error(10**y_hold, 10**std.inverse_transform(y_hold_pred))\n",
    "MAE"
   ]
  },
  {
   "cell_type": "markdown",
   "id": "f90debb3",
   "metadata": {},
   "source": [
    "The above <b>MAE</b> means that on an average our model's predictions are off from the true value by <b>$17471</b>. To put it in perspective, let us do the following."
   ]
  },
  {
   "cell_type": "code",
   "execution_count": 64,
   "id": "5f7b10fc",
   "metadata": {},
   "outputs": [
    {
     "data": {
      "text/plain": [
       "186457.7123287671"
      ]
     },
     "execution_count": 64,
     "metadata": {},
     "output_type": "execute_result"
    }
   ],
   "source": [
    "# mean of all SalePrice\n",
    "mean_sp= (10**y_hold).mean()\n",
    "mean_sp"
   ]
  },
  {
   "cell_type": "code",
   "execution_count": 65,
   "id": "df39f65f",
   "metadata": {},
   "outputs": [
    {
     "data": {
      "text/plain": [
       "9.369977575552223"
      ]
     },
     "execution_count": 65,
     "metadata": {},
     "output_type": "execute_result"
    }
   ],
   "source": [
    "error_perc=100*(MAE/mean_sp)\n",
    "error_perc"
   ]
  },
  {
   "cell_type": "markdown",
   "id": "b979dcb3",
   "metadata": {},
   "source": [
    "# <font color='darkviolet'>ridge Model Performance:</font>\n",
    "<b><font color='darkviolet'>predictive r2_score=88%</font></b><br>\n",
    "<b><font color='darkviolet'>On an average, the SalePrice predicted by this model are off by ±9.36 %</font></b>\n",
    "\n",
    "# <font color='darkgreen'>Building Lasso Model: lasso</font>\n",
    "As mentioned before, GridSearchCV will try different models and will select the best one. That best model is what we're going to choose as our <font color='darkgreen'><b>lasso</b></font> model."
   ]
  },
  {
   "cell_type": "code",
   "execution_count": 66,
   "id": "41cf6dc6",
   "metadata": {},
   "outputs": [],
   "source": [
    "'''Note: I'm searching for alpha in this extremely narrowspace. Because I've already run this code many times and wanted to \n",
    "fine tune my search for the best value. I also tried alpha=0 to rule out the possibility of plain OLS\n",
    "'''\n",
    "param_lasso={'l1_norm__alpha':np.logspace(-2.75,-2.7,100)}"
   ]
  },
  {
   "cell_type": "code",
   "execution_count": 67,
   "id": "a358fe91",
   "metadata": {},
   "outputs": [],
   "source": [
    "grid_lasso=GridSearchCV(estimator=pipe2, param_grid=param_lasso, cv=5, scoring='r2', return_train_score=True)"
   ]
  },
  {
   "cell_type": "code",
   "execution_count": 68,
   "id": "35690e0c",
   "metadata": {},
   "outputs": [
    {
     "data": {
      "text/plain": [
       "GridSearchCV(cv=5,\n",
       "             estimator=Pipeline(steps=[('scale', StandardScaler()),\n",
       "                                       ('l1_norm', Lasso())]),\n",
       "             param_grid={'l1_norm__alpha': array([0.00177828, 0.00178035, 0.00178242, 0.00178449, 0.00178657,\n",
       "       0.00178865, 0.00179073, 0.00179281, 0.0017949 , 0.00179699,\n",
       "       0.00179908, 0.00180117, 0.00180327, 0.00180537, 0.00180747,\n",
       "       0.00180957, 0.00181168, 0.00181379, 0.0018159 , 0.00181801,\n",
       "       0.0...\n",
       "       0.00192909, 0.00193134, 0.00193359, 0.00193584, 0.00193809,\n",
       "       0.00194034, 0.0019426 , 0.00194486, 0.00194713, 0.00194939,\n",
       "       0.00195166, 0.00195393, 0.0019562 , 0.00195848, 0.00196076,\n",
       "       0.00196304, 0.00196532, 0.00196761, 0.0019699 , 0.00197219,\n",
       "       0.00197449, 0.00197679, 0.00197909, 0.00198139, 0.00198369,\n",
       "       0.001986  , 0.00198831, 0.00199063, 0.00199294, 0.00199526])},\n",
       "             return_train_score=True, scoring='r2')"
      ]
     },
     "execution_count": 68,
     "metadata": {},
     "output_type": "execute_result"
    }
   ],
   "source": [
    "grid_lasso.fit(X,y)"
   ]
  },
  {
   "cell_type": "code",
   "execution_count": 69,
   "id": "0f51fcdc",
   "metadata": {},
   "outputs": [
    {
     "data": {
      "text/plain": [
       "Pipeline(steps=[('scale', StandardScaler()),\n",
       "                ('l1_norm', Lasso(alpha=0.0019001499684190594))])"
      ]
     },
     "execution_count": 69,
     "metadata": {},
     "output_type": "execute_result"
    }
   ],
   "source": [
    "grid_lasso.best_estimator_"
   ]
  },
  {
   "cell_type": "code",
   "execution_count": 70,
   "id": "7ff5b25a",
   "metadata": {},
   "outputs": [
    {
     "data": {
      "text/html": [
       "<div>\n",
       "<style scoped>\n",
       "    .dataframe tbody tr th:only-of-type {\n",
       "        vertical-align: middle;\n",
       "    }\n",
       "\n",
       "    .dataframe tbody tr th {\n",
       "        vertical-align: top;\n",
       "    }\n",
       "\n",
       "    .dataframe thead th {\n",
       "        text-align: right;\n",
       "    }\n",
       "</style>\n",
       "<table border=\"1\" class=\"dataframe\">\n",
       "  <thead>\n",
       "    <tr style=\"text-align: right;\">\n",
       "      <th></th>\n",
       "      <th>mean_fit_time</th>\n",
       "      <th>std_fit_time</th>\n",
       "      <th>mean_score_time</th>\n",
       "      <th>std_score_time</th>\n",
       "      <th>param_l1_norm__alpha</th>\n",
       "      <th>params</th>\n",
       "      <th>split0_test_score</th>\n",
       "      <th>split1_test_score</th>\n",
       "      <th>split2_test_score</th>\n",
       "      <th>split3_test_score</th>\n",
       "      <th>...</th>\n",
       "      <th>mean_test_score</th>\n",
       "      <th>std_test_score</th>\n",
       "      <th>rank_test_score</th>\n",
       "      <th>split0_train_score</th>\n",
       "      <th>split1_train_score</th>\n",
       "      <th>split2_train_score</th>\n",
       "      <th>split3_train_score</th>\n",
       "      <th>split4_train_score</th>\n",
       "      <th>mean_train_score</th>\n",
       "      <th>std_train_score</th>\n",
       "    </tr>\n",
       "  </thead>\n",
       "  <tbody>\n",
       "    <tr>\n",
       "      <th>0</th>\n",
       "      <td>0.015403</td>\n",
       "      <td>8.000374e-04</td>\n",
       "      <td>0.002001</td>\n",
       "      <td>1.784161e-07</td>\n",
       "      <td>0.001778</td>\n",
       "      <td>{'l1_norm__alpha': 0.0017782794100389228}</td>\n",
       "      <td>0.837794</td>\n",
       "      <td>0.917228</td>\n",
       "      <td>0.881044</td>\n",
       "      <td>0.920110</td>\n",
       "      <td>...</td>\n",
       "      <td>0.865207</td>\n",
       "      <td>0.056239</td>\n",
       "      <td>100</td>\n",
       "      <td>0.920707</td>\n",
       "      <td>0.908771</td>\n",
       "      <td>0.915110</td>\n",
       "      <td>0.908556</td>\n",
       "      <td>0.928344</td>\n",
       "      <td>0.916297</td>\n",
       "      <td>0.007517</td>\n",
       "    </tr>\n",
       "    <tr>\n",
       "      <th>1</th>\n",
       "      <td>0.015003</td>\n",
       "      <td>9.536743e-08</td>\n",
       "      <td>0.002201</td>\n",
       "      <td>4.001856e-04</td>\n",
       "      <td>0.00178</td>\n",
       "      <td>{'l1_norm__alpha': 0.0017803486127948383}</td>\n",
       "      <td>0.837793</td>\n",
       "      <td>0.917227</td>\n",
       "      <td>0.881057</td>\n",
       "      <td>0.920133</td>\n",
       "      <td>...</td>\n",
       "      <td>0.865212</td>\n",
       "      <td>0.056247</td>\n",
       "      <td>99</td>\n",
       "      <td>0.920690</td>\n",
       "      <td>0.908756</td>\n",
       "      <td>0.915092</td>\n",
       "      <td>0.908531</td>\n",
       "      <td>0.928330</td>\n",
       "      <td>0.916280</td>\n",
       "      <td>0.007520</td>\n",
       "    </tr>\n",
       "    <tr>\n",
       "      <th>2</th>\n",
       "      <td>0.015003</td>\n",
       "      <td>1.507891e-07</td>\n",
       "      <td>0.002801</td>\n",
       "      <td>4.001141e-04</td>\n",
       "      <td>0.001782</td>\n",
       "      <td>{'l1_norm__alpha': 0.001782420223271399}</td>\n",
       "      <td>0.837791</td>\n",
       "      <td>0.917226</td>\n",
       "      <td>0.881069</td>\n",
       "      <td>0.920156</td>\n",
       "      <td>...</td>\n",
       "      <td>0.865217</td>\n",
       "      <td>0.056255</td>\n",
       "      <td>98</td>\n",
       "      <td>0.920672</td>\n",
       "      <td>0.908740</td>\n",
       "      <td>0.915074</td>\n",
       "      <td>0.908507</td>\n",
       "      <td>0.928317</td>\n",
       "      <td>0.916262</td>\n",
       "      <td>0.007522</td>\n",
       "    </tr>\n",
       "    <tr>\n",
       "      <th>3</th>\n",
       "      <td>0.015203</td>\n",
       "      <td>4.002095e-04</td>\n",
       "      <td>0.002001</td>\n",
       "      <td>2.780415e-07</td>\n",
       "      <td>0.001784</td>\n",
       "      <td>{'l1_norm__alpha': 0.0017844942442702206}</td>\n",
       "      <td>0.837790</td>\n",
       "      <td>0.917225</td>\n",
       "      <td>0.881082</td>\n",
       "      <td>0.920179</td>\n",
       "      <td>...</td>\n",
       "      <td>0.865222</td>\n",
       "      <td>0.056263</td>\n",
       "      <td>97</td>\n",
       "      <td>0.920655</td>\n",
       "      <td>0.908725</td>\n",
       "      <td>0.915056</td>\n",
       "      <td>0.908482</td>\n",
       "      <td>0.928304</td>\n",
       "      <td>0.916244</td>\n",
       "      <td>0.007525</td>\n",
       "    </tr>\n",
       "    <tr>\n",
       "      <th>4</th>\n",
       "      <td>0.015003</td>\n",
       "      <td>6.327113e-04</td>\n",
       "      <td>0.002201</td>\n",
       "      <td>4.002571e-04</td>\n",
       "      <td>0.001787</td>\n",
       "      <td>{'l1_norm__alpha': 0.0017865706785961841}</td>\n",
       "      <td>0.837788</td>\n",
       "      <td>0.917223</td>\n",
       "      <td>0.881095</td>\n",
       "      <td>0.920201</td>\n",
       "      <td>...</td>\n",
       "      <td>0.865227</td>\n",
       "      <td>0.056271</td>\n",
       "      <td>96</td>\n",
       "      <td>0.920637</td>\n",
       "      <td>0.908710</td>\n",
       "      <td>0.915038</td>\n",
       "      <td>0.908457</td>\n",
       "      <td>0.928291</td>\n",
       "      <td>0.916227</td>\n",
       "      <td>0.007527</td>\n",
       "    </tr>\n",
       "  </tbody>\n",
       "</table>\n",
       "<p>5 rows × 21 columns</p>\n",
       "</div>"
      ],
      "text/plain": [
       "   mean_fit_time  std_fit_time  mean_score_time  std_score_time  \\\n",
       "0       0.015403  8.000374e-04         0.002001    1.784161e-07   \n",
       "1       0.015003  9.536743e-08         0.002201    4.001856e-04   \n",
       "2       0.015003  1.507891e-07         0.002801    4.001141e-04   \n",
       "3       0.015203  4.002095e-04         0.002001    2.780415e-07   \n",
       "4       0.015003  6.327113e-04         0.002201    4.002571e-04   \n",
       "\n",
       "  param_l1_norm__alpha                                     params  \\\n",
       "0             0.001778  {'l1_norm__alpha': 0.0017782794100389228}   \n",
       "1              0.00178  {'l1_norm__alpha': 0.0017803486127948383}   \n",
       "2             0.001782   {'l1_norm__alpha': 0.001782420223271399}   \n",
       "3             0.001784  {'l1_norm__alpha': 0.0017844942442702206}   \n",
       "4             0.001787  {'l1_norm__alpha': 0.0017865706785961841}   \n",
       "\n",
       "   split0_test_score  split1_test_score  split2_test_score  split3_test_score  \\\n",
       "0           0.837794           0.917228           0.881044           0.920110   \n",
       "1           0.837793           0.917227           0.881057           0.920133   \n",
       "2           0.837791           0.917226           0.881069           0.920156   \n",
       "3           0.837790           0.917225           0.881082           0.920179   \n",
       "4           0.837788           0.917223           0.881095           0.920201   \n",
       "\n",
       "   ...  mean_test_score  std_test_score  rank_test_score  split0_train_score  \\\n",
       "0  ...         0.865207        0.056239              100            0.920707   \n",
       "1  ...         0.865212        0.056247               99            0.920690   \n",
       "2  ...         0.865217        0.056255               98            0.920672   \n",
       "3  ...         0.865222        0.056263               97            0.920655   \n",
       "4  ...         0.865227        0.056271               96            0.920637   \n",
       "\n",
       "   split1_train_score  split2_train_score  split3_train_score  \\\n",
       "0            0.908771            0.915110            0.908556   \n",
       "1            0.908756            0.915092            0.908531   \n",
       "2            0.908740            0.915074            0.908507   \n",
       "3            0.908725            0.915056            0.908482   \n",
       "4            0.908710            0.915038            0.908457   \n",
       "\n",
       "   split4_train_score  mean_train_score  std_train_score  \n",
       "0            0.928344          0.916297         0.007517  \n",
       "1            0.928330          0.916280         0.007520  \n",
       "2            0.928317          0.916262         0.007522  \n",
       "3            0.928304          0.916244         0.007525  \n",
       "4            0.928291          0.916227         0.007527  \n",
       "\n",
       "[5 rows x 21 columns]"
      ]
     },
     "execution_count": 70,
     "metadata": {},
     "output_type": "execute_result"
    }
   ],
   "source": [
    "grid_lasso_results=pd.DataFrame(grid_lasso.cv_results_)\n",
    "grid_lasso_results.head()"
   ]
  },
  {
   "cell_type": "code",
   "execution_count": 71,
   "id": "c68b3a8e",
   "metadata": {},
   "outputs": [
    {
     "data": {
      "text/plain": [
       "0.8654285616959271"
      ]
     },
     "execution_count": 71,
     "metadata": {},
     "output_type": "execute_result"
    }
   ],
   "source": [
    "grid_lasso.best_score_"
   ]
  },
  {
   "cell_type": "markdown",
   "id": "af708ada",
   "metadata": {},
   "source": [
    "The <b>r_squared</b> of the best lasso estimator is <b>87%</b>. Though we can use the above <b>grid_lasso</b> itself as the final Lasso model directly, we're creating a new Lasso object to conveniently use it for <b>RFE</b> and <b>residual analysis</b>.\n",
    "\n",
    "<b>Note: <font color='red'>Lasso itself is a feature selecting algorithm and applying RFE on a Lasso model is redundant. But still we're using RFE on Lasso, because of one of its attributes called ranking_ which will give us the significance of each feature in the model.</b></font>"
   ]
  },
  {
   "cell_type": "code",
   "execution_count": 72,
   "id": "8a494e07",
   "metadata": {},
   "outputs": [
    {
     "data": {
      "text/plain": [
       "0.0019001499684190594"
      ]
     },
     "execution_count": 72,
     "metadata": {},
     "output_type": "execute_result"
    }
   ],
   "source": [
    "grid_lasso.best_estimator_[1].alpha"
   ]
  },
  {
   "cell_type": "markdown",
   "id": "305c58b7",
   "metadata": {},
   "source": [
    "<font color='darkgreen'><b> The optimal value of λ for Lasso regression is 0.0019</b></font>"
   ]
  },
  {
   "cell_type": "code",
   "execution_count": 73,
   "id": "7b12df26",
   "metadata": {},
   "outputs": [
    {
     "data": {
      "text/plain": [
       "Lasso(alpha=0.0019001499684190594)"
      ]
     },
     "execution_count": 73,
     "metadata": {},
     "output_type": "execute_result"
    }
   ],
   "source": [
    "lasso=Lasso(grid_lasso.best_estimator_[1].alpha)\n",
    "lasso"
   ]
  },
  {
   "cell_type": "code",
   "execution_count": 74,
   "id": "2b11d20d",
   "metadata": {},
   "outputs": [],
   "source": [
    "tmp_rfe_lasso1=RFE(lasso, n_features_to_select=1)"
   ]
  },
  {
   "cell_type": "code",
   "execution_count": 75,
   "id": "be9b9931",
   "metadata": {},
   "outputs": [
    {
     "data": {
      "text/plain": [
       "RFE(estimator=Lasso(alpha=0.0019001499684190594), n_features_to_select=1)"
      ]
     },
     "execution_count": 75,
     "metadata": {},
     "output_type": "execute_result"
    }
   ],
   "source": [
    "tmp_rfe_lasso1.fit(X_std,y_std)"
   ]
  },
  {
   "cell_type": "code",
   "execution_count": 76,
   "id": "27a42539",
   "metadata": {},
   "outputs": [],
   "source": [
    "# checking the features & their RFE rank\n",
    "l3=list(zip(X.columns,tmp_rfe_lasso1.ranking_))\n",
    "l3.sort(key=lambda x:x[1])\n",
    "l3=pd.DataFrame(l3)\n",
    "l3.columns=['features_alpha','ranking_alpha']"
   ]
  },
  {
   "cell_type": "code",
   "execution_count": 77,
   "id": "d587bda2",
   "metadata": {},
   "outputs": [],
   "source": [
    "lasso_2alpha=Lasso(2*grid_lasso.best_estimator_[1].alpha)"
   ]
  },
  {
   "cell_type": "code",
   "execution_count": 78,
   "id": "d9d4d451",
   "metadata": {},
   "outputs": [],
   "source": [
    "tmp_rfe_lasso2=RFE(lasso_2alpha, n_features_to_select=1)"
   ]
  },
  {
   "cell_type": "code",
   "execution_count": 79,
   "id": "b0dfd7e1",
   "metadata": {},
   "outputs": [
    {
     "data": {
      "text/plain": [
       "RFE(estimator=Lasso(alpha=0.003800299936838119), n_features_to_select=1)"
      ]
     },
     "execution_count": 79,
     "metadata": {},
     "output_type": "execute_result"
    }
   ],
   "source": [
    "tmp_rfe_lasso2.fit(X_std,y_std)"
   ]
  },
  {
   "cell_type": "code",
   "execution_count": 80,
   "id": "77eb1485",
   "metadata": {},
   "outputs": [],
   "source": [
    "# checking the features & their RFE rank\n",
    "l4=list(zip(X.columns,tmp_rfe_lasso2.ranking_))\n",
    "l4.sort(key=lambda x:x[1])\n",
    "l4=pd.DataFrame(l4)\n",
    "l4.columns=['features_2alpha','ranking_2alpha']"
   ]
  },
  {
   "cell_type": "markdown",
   "id": "e1f02ce1",
   "metadata": {},
   "source": [
    "<font color='red'><b>Here we are comparing the features and their respective RFE ranking with the optimal value of λ and its double the value 2λ. Note λ=α.</b></font>"
   ]
  },
  {
   "cell_type": "code",
   "execution_count": 81,
   "id": "5bff440f",
   "metadata": {},
   "outputs": [
    {
     "data": {
      "text/html": [
       "<div>\n",
       "<style scoped>\n",
       "    .dataframe tbody tr th:only-of-type {\n",
       "        vertical-align: middle;\n",
       "    }\n",
       "\n",
       "    .dataframe tbody tr th {\n",
       "        vertical-align: top;\n",
       "    }\n",
       "\n",
       "    .dataframe thead th {\n",
       "        text-align: right;\n",
       "    }\n",
       "</style>\n",
       "<table border=\"1\" class=\"dataframe\">\n",
       "  <thead>\n",
       "    <tr style=\"text-align: right;\">\n",
       "      <th></th>\n",
       "      <th>features_alpha</th>\n",
       "      <th>ranking_alpha</th>\n",
       "      <th>features_2alpha</th>\n",
       "      <th>ranking_2alpha</th>\n",
       "    </tr>\n",
       "  </thead>\n",
       "  <tbody>\n",
       "    <tr>\n",
       "      <th>0</th>\n",
       "      <td>OverallQual</td>\n",
       "      <td>1</td>\n",
       "      <td>OverallQual</td>\n",
       "      <td>1</td>\n",
       "    </tr>\n",
       "    <tr>\n",
       "      <th>1</th>\n",
       "      <td>GrLivArea</td>\n",
       "      <td>2</td>\n",
       "      <td>GrLivArea</td>\n",
       "      <td>2</td>\n",
       "    </tr>\n",
       "    <tr>\n",
       "      <th>2</th>\n",
       "      <td>YearBuilt</td>\n",
       "      <td>3</td>\n",
       "      <td>YearBuilt</td>\n",
       "      <td>3</td>\n",
       "    </tr>\n",
       "    <tr>\n",
       "      <th>3</th>\n",
       "      <td>OverallCond</td>\n",
       "      <td>4</td>\n",
       "      <td>GarageCars</td>\n",
       "      <td>4</td>\n",
       "    </tr>\n",
       "    <tr>\n",
       "      <th>4</th>\n",
       "      <td>TotalBsmtSF</td>\n",
       "      <td>5</td>\n",
       "      <td>OverallCond</td>\n",
       "      <td>5</td>\n",
       "    </tr>\n",
       "    <tr>\n",
       "      <th>5</th>\n",
       "      <td>RoofMatl_CompShg</td>\n",
       "      <td>6</td>\n",
       "      <td>TotalBsmtSF</td>\n",
       "      <td>6</td>\n",
       "    </tr>\n",
       "    <tr>\n",
       "      <th>6</th>\n",
       "      <td>RoofMatl_Tar&amp;Grv</td>\n",
       "      <td>7</td>\n",
       "      <td>MSZoning_RL</td>\n",
       "      <td>7</td>\n",
       "    </tr>\n",
       "    <tr>\n",
       "      <th>7</th>\n",
       "      <td>RoofMatl_WdShngl</td>\n",
       "      <td>8</td>\n",
       "      <td>RoofMatl_CompShg</td>\n",
       "      <td>8</td>\n",
       "    </tr>\n",
       "    <tr>\n",
       "      <th>8</th>\n",
       "      <td>RoofMatl_Metal</td>\n",
       "      <td>9</td>\n",
       "      <td>RoofMatl_Tar&amp;Grv</td>\n",
       "      <td>9</td>\n",
       "    </tr>\n",
       "    <tr>\n",
       "      <th>9</th>\n",
       "      <td>RoofMatl_Membran</td>\n",
       "      <td>10</td>\n",
       "      <td>RoofMatl_WdShngl</td>\n",
       "      <td>10</td>\n",
       "    </tr>\n",
       "  </tbody>\n",
       "</table>\n",
       "</div>"
      ],
      "text/plain": [
       "     features_alpha  ranking_alpha   features_2alpha  ranking_2alpha\n",
       "0       OverallQual              1       OverallQual               1\n",
       "1         GrLivArea              2         GrLivArea               2\n",
       "2         YearBuilt              3         YearBuilt               3\n",
       "3       OverallCond              4        GarageCars               4\n",
       "4       TotalBsmtSF              5       OverallCond               5\n",
       "5  RoofMatl_CompShg              6       TotalBsmtSF               6\n",
       "6  RoofMatl_Tar&Grv              7       MSZoning_RL               7\n",
       "7  RoofMatl_WdShngl              8  RoofMatl_CompShg               8\n",
       "8    RoofMatl_Metal              9  RoofMatl_Tar&Grv               9\n",
       "9  RoofMatl_Membran             10  RoofMatl_WdShngl              10"
      ]
     },
     "execution_count": 81,
     "metadata": {},
     "output_type": "execute_result"
    }
   ],
   "source": [
    "compare_lasso=pd.concat([l3,l4],axis=1)\n",
    "compare_lasso.head(10)"
   ]
  },
  {
   "cell_type": "markdown",
   "id": "23b8ef46",
   "metadata": {},
   "source": [
    "<font color='darkgreen'><b>The top 3 most important features for optimal λ version of Lasso and 2λ version of Lasso are exactly same. They are OverallQual, GrLivArea & YearBuilt. The ranking of all other features are quite different between both the versions of Lasso.</b></font>\n",
    "\n",
    "We are using our current Lasso model using the optimal value of <b>λ=0.0019</b> to perform further analysis.\n",
    "\n",
    "# <font color='orange'>Residual Analysis (lasso)</font>"
   ]
  },
  {
   "cell_type": "code",
   "execution_count": 82,
   "id": "1b354875",
   "metadata": {},
   "outputs": [
    {
     "data": {
      "text/plain": [
       "Lasso(alpha=0.0019001499684190594)"
      ]
     },
     "execution_count": 82,
     "metadata": {},
     "output_type": "execute_result"
    }
   ],
   "source": [
    "# fitting the data on the ridge regression object\n",
    "lasso.fit(X_std,y_std)"
   ]
  },
  {
   "cell_type": "code",
   "execution_count": 83,
   "id": "1191926f",
   "metadata": {},
   "outputs": [
    {
     "data": {
      "text/plain": [
       "array([-0.15241297, -0.81606443, -0.36923842, ...,  0.04014383,\n",
       "       -0.24537451, -0.73063997])"
      ]
     },
     "execution_count": 83,
     "metadata": {},
     "output_type": "execute_result"
    }
   ],
   "source": [
    "# making predictions off of the data \n",
    "y_pred_lasso=lasso.predict(X_std)\n",
    "y_pred_lasso"
   ]
  },
  {
   "cell_type": "code",
   "execution_count": 84,
   "id": "2b7ac77f",
   "metadata": {},
   "outputs": [
    {
     "data": {
      "text/plain": [
       "array([ 0.07640431,  0.21085231,  0.14829022, ...,  0.03567915,\n",
       "       -0.10307017, -0.04427559])"
      ]
     },
     "execution_count": 84,
     "metadata": {},
     "output_type": "execute_result"
    }
   ],
   "source": [
    "# defining residuals\n",
    "res_lasso=y_std-y_pred_lasso.reshape(-1,1)\n",
    "res_lasso=res_lasso.reshape(1,-1)[0]\n",
    "res_lasso"
   ]
  },
  {
   "cell_type": "code",
   "execution_count": 85,
   "id": "8bf742a1",
   "metadata": {},
   "outputs": [
    {
     "data": {
      "image/png": "[encoded data removed]",
      "text/plain": [
       "<Figure size 1200x800 with 1 Axes>"
      ]
     },
     "metadata": {
      "needs_background": "light"
     },
     "output_type": "display_data"
    }
   ],
   "source": [
    "# plotting kdeplot for the residuals\n",
    "plt.figure(dpi=200)\n",
    "plt.title('Normality of Residuals')\n",
    "sns.kdeplot(res_lasso, shade=True, color='Orange')\n",
    "plt.xlabel('res');"
   ]
  },
  {
   "cell_type": "markdown",
   "id": "7b63116b",
   "metadata": {},
   "source": [
    "From the above plot we can see that the residuals are fairly normal and centered around 0 which is one of the assumptions of linear regression."
   ]
  },
  {
   "cell_type": "code",
   "execution_count": 86,
   "id": "f296023e",
   "metadata": {},
   "outputs": [
    {
     "data": {
      "image/png": "[encoded data removed]",
      "text/plain": [
       "<Figure size 1200x800 with 1 Axes>"
      ]
     },
     "metadata": {
      "needs_background": "light"
     },
     "output_type": "display_data"
    }
   ],
   "source": [
    "# plotting the residuals against the predicted values\n",
    "plt.figure(dpi=200)\n",
    "plt.title('Homoscedasticity & Independence')\n",
    "sns.scatterplot(x=y_pred_lasso, y=res_lasso, color='Orange')\n",
    "plt.ylabel('res')\n",
    "plt.xlabel('y_pred')\n",
    "sns.lineplot(x=y_pred_lasso, y=0, color='navy', ls='--');"
   ]
  },
  {
   "cell_type": "markdown",
   "id": "81fbef88",
   "metadata": {},
   "source": [
    "Except for handful of points, residuals are having uniform variance (homoscedasticity) and residuals are independent. Hence all the 3 assumptions of linear regression about the residuals are satisfied.\n",
    "\n",
    "<b><font color='navy'>Evaluating the performance of ridge model</font></b>"
   ]
  },
  {
   "cell_type": "code",
   "execution_count": 87,
   "id": "acf962ed",
   "metadata": {},
   "outputs": [],
   "source": [
    "y_hold_pred_lasso=lasso.predict(X_hold_std)"
   ]
  },
  {
   "cell_type": "code",
   "execution_count": 88,
   "id": "108fe6c3",
   "metadata": {},
   "outputs": [
    {
     "data": {
      "text/plain": [
       "0.900613925026784"
      ]
     },
     "execution_count": 88,
     "metadata": {},
     "output_type": "execute_result"
    }
   ],
   "source": [
    "r2_score(y_hold_std, y_hold_pred_lasso)"
   ]
  },
  {
   "cell_type": "code",
   "execution_count": 89,
   "id": "78c53813",
   "metadata": {},
   "outputs": [
    {
     "data": {
      "text/plain": [
       "15331.1672817502"
      ]
     },
     "execution_count": 89,
     "metadata": {},
     "output_type": "execute_result"
    }
   ],
   "source": [
    "# finding MAE in the original scale\n",
    "# we're undoing log10 by 10**(num)\n",
    "MAE_lasso=mean_absolute_error(10**y_hold,10**std.inverse_transform(y_hold_pred_lasso.reshape(1,-1))[0])\n",
    "MAE_lasso"
   ]
  },
  {
   "cell_type": "markdown",
   "id": "9f15b321",
   "metadata": {},
   "source": [
    "The above <b>MAE_lasso</b> means that on an average our model's predictions are off from the true value by <b>$15331</b>. To put it in perspective, let us do the following."
   ]
  },
  {
   "cell_type": "code",
   "execution_count": 90,
   "id": "c942345d",
   "metadata": {},
   "outputs": [
    {
     "data": {
      "text/plain": [
       "8.222329390547218"
      ]
     },
     "execution_count": 90,
     "metadata": {},
     "output_type": "execute_result"
    }
   ],
   "source": [
    "error_perc_lasso=100*(MAE_lasso/mean_sp)\n",
    "error_perc_lasso"
   ]
  },
  {
   "cell_type": "markdown",
   "id": "17f57f21",
   "metadata": {},
   "source": [
    "# <font color='darkviolet'>lasso Model Performance:</font>\n",
    "<b><font color='darkviolet'>predictive r2_score=90%</font></b><br>\n",
    "<b><font color='darkviolet'>On an average, the SalePrice predicted by this model are off by ±8.22 %</font></b>\n",
    "\n",
    "# <font color='darkgreen'>Model Performance Comparison:</font>"
   ]
  },
  {
   "cell_type": "code",
   "execution_count": 91,
   "id": "f3d5b9cc",
   "metadata": {},
   "outputs": [
    {
     "data": {
      "text/plain": [
       "215"
      ]
     },
     "execution_count": 91,
     "metadata": {},
     "output_type": "execute_result"
    }
   ],
   "source": [
    "(ridge.coef_!=0).sum()"
   ]
  },
  {
   "cell_type": "markdown",
   "id": "6ed3dd23",
   "metadata": {},
   "source": [
    "Ridge uses all 215 predictor variables."
   ]
  },
  {
   "cell_type": "code",
   "execution_count": 92,
   "id": "d2f51ef2",
   "metadata": {},
   "outputs": [
    {
     "data": {
      "text/plain": [
       "161"
      ]
     },
     "execution_count": 92,
     "metadata": {},
     "output_type": "execute_result"
    }
   ],
   "source": [
    "(lasso.coef_!=0).sum()"
   ]
  },
  {
   "cell_type": "markdown",
   "id": "2cb74501",
   "metadata": {},
   "source": [
    "Lasso uses only 161 predictor variables. Hence it is a lighter model.\n",
    "\n",
    "# <font color='navy'><u>Final Model</u></font>\n",
    "\n",
    "<b>Therefore we choose <font color='darkviolet'>lasso model</font> as our final model, as its <font color='darkviolet'>predictive r2_score</font> is <font color='darkviolet'>90%</font> <font color='grey'>(which is slightly better than that of ridge with 88%)</font> and it uses only <font color='darkviolet'>161 features</font> thus it is significantly lighter than the ridge model.</b> \n",
    "\n",
    "You can find the coefficients of the features and the constant terms in the following dataframe for your reference."
   ]
  },
  {
   "cell_type": "code",
   "execution_count": 93,
   "id": "efd1dc8a",
   "metadata": {},
   "outputs": [
    {
     "data": {
      "text/html": [
       "<div>\n",
       "<style scoped>\n",
       "    .dataframe tbody tr th:only-of-type {\n",
       "        vertical-align: middle;\n",
       "    }\n",
       "\n",
       "    .dataframe tbody tr th {\n",
       "        vertical-align: top;\n",
       "    }\n",
       "\n",
       "    .dataframe thead th {\n",
       "        text-align: right;\n",
       "    }\n",
       "</style>\n",
       "<table border=\"1\" class=\"dataframe\">\n",
       "  <thead>\n",
       "    <tr style=\"text-align: right;\">\n",
       "      <th></th>\n",
       "      <th>0</th>\n",
       "      <th>1</th>\n",
       "    </tr>\n",
       "  </thead>\n",
       "  <tbody>\n",
       "    <tr>\n",
       "      <th>0</th>\n",
       "      <td>LotArea</td>\n",
       "      <td>0.053028</td>\n",
       "    </tr>\n",
       "    <tr>\n",
       "      <th>1</th>\n",
       "      <td>Street</td>\n",
       "      <td>0.015095</td>\n",
       "    </tr>\n",
       "    <tr>\n",
       "      <th>2</th>\n",
       "      <td>Alley</td>\n",
       "      <td>0.010278</td>\n",
       "    </tr>\n",
       "    <tr>\n",
       "      <th>3</th>\n",
       "      <td>Utilities</td>\n",
       "      <td>0.014307</td>\n",
       "    </tr>\n",
       "    <tr>\n",
       "      <th>4</th>\n",
       "      <td>OverallQual</td>\n",
       "      <td>0.162949</td>\n",
       "    </tr>\n",
       "    <tr>\n",
       "      <th>...</th>\n",
       "      <td>...</td>\n",
       "      <td>...</td>\n",
       "    </tr>\n",
       "    <tr>\n",
       "      <th>210</th>\n",
       "      <td>SaleCondition_AdjLand</td>\n",
       "      <td>0.013807</td>\n",
       "    </tr>\n",
       "    <tr>\n",
       "      <th>211</th>\n",
       "      <td>SaleCondition_Alloca</td>\n",
       "      <td>0.006489</td>\n",
       "    </tr>\n",
       "    <tr>\n",
       "      <th>212</th>\n",
       "      <td>SaleCondition_Family</td>\n",
       "      <td>-0.000000</td>\n",
       "    </tr>\n",
       "    <tr>\n",
       "      <th>213</th>\n",
       "      <td>SaleCondition_Normal</td>\n",
       "      <td>0.056184</td>\n",
       "    </tr>\n",
       "    <tr>\n",
       "      <th>214</th>\n",
       "      <td>SaleCondition_Partial</td>\n",
       "      <td>0.000000</td>\n",
       "    </tr>\n",
       "  </tbody>\n",
       "</table>\n",
       "<p>215 rows × 2 columns</p>\n",
       "</div>"
      ],
      "text/plain": [
       "                         0         1\n",
       "0                  LotArea  0.053028\n",
       "1                   Street  0.015095\n",
       "2                    Alley  0.010278\n",
       "3                Utilities  0.014307\n",
       "4              OverallQual  0.162949\n",
       "..                     ...       ...\n",
       "210  SaleCondition_AdjLand  0.013807\n",
       "211   SaleCondition_Alloca  0.006489\n",
       "212   SaleCondition_Family -0.000000\n",
       "213   SaleCondition_Normal  0.056184\n",
       "214  SaleCondition_Partial  0.000000\n",
       "\n",
       "[215 rows x 2 columns]"
      ]
     },
     "execution_count": 93,
     "metadata": {},
     "output_type": "execute_result"
    }
   ],
   "source": [
    "lasso_coef=list(zip(X.columns, lasso.coef_))\n",
    "lasso_coef=pd.DataFrame(lasso_coef)\n",
    "lasso_coef"
   ]
  }
 ],
 "metadata": {
  "kernelspec": {
   "display_name": "Python 3",
   "language": "python",
   "name": "python3"
  },
  "language_info": {
   "codemirror_mode": {
    "name": "ipython",
    "version": 3
   },
   "file_extension": ".py",
   "mimetype": "text/x-python",
   "name": "python",
   "nbconvert_exporter": "python",
   "pygments_lexer": "ipython3",
   "version": "3.8.8"
  }
 },
 "nbformat": 4,
 "nbformat_minor": 5
}
